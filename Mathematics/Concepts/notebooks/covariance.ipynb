{
 "cells": [
  {
   "cell_type": "markdown",
   "id": "3572411c-64b1-4d62-b6d0-581be411f212",
   "metadata": {},
   "source": [
    "### Covariance\n",
    "\n",
    "In probability theory and statistics, covariance is a measure of the joint variability of two random variables. If the greater values of one variable mainly correspond with the greater values of the other variable, and the same holds for the lesser values (that is, the variables tend to show similar behavior), the covariance is positive. In the opposite case, when the greater values of one variable mainly correspond to the lesser values of the other, (that is, the variables tend to show opposite behavior), the covariance is negative. The sign of the covariance therefore shows the tendency in the linear relationship between the variables. The magnitude of the covariance is not easy to interpret because it is not normalized and hence depends on the magnitudes of the variables. The normalized version of the covariance, the correlation coefficient, however, shows by its magnitude the strength of the linear relation.\n",
    "\n",
    "A distinction must be made between:\n",
    "- (1) the covariance of two random variables, which is a population parameter that can be seen as a property of the joint probability distribution, and \n",
    "- (2) the sample covariance, which in addition to serving as a descriptor of the sample, also serves as an estimated value of the population parameter."
   ]
  },
  {
   "cell_type": "markdown",
   "id": "8c87109b-12fd-4558-8f52-9d6cf25c249a",
   "metadata": {},
   "source": [
    "### Definition\n",
    "\n",
    "For two joint distributed real-valued random variables X and Y with finite second moments, the covariance as the expected value (or mean) of the product of their deviations from their individual expected values:\n",
    "\n",
    "${\\displaystyle \\operatorname {cov} (X,Y)=\\operatorname {E} {{\\big [}(X-\\operatorname {E} [X])(Y-\\operatorname {E} [Y]){\\big ]}}}$\n",
    "\n",
    "where ${\\displaystyle \\operatorname {E} [X]}\\operatorname {E} [X]$ is the expected value of ${\\displaystyle X}X, also known as the mean of {\\displaystyle X}X$. The covariance is also sometimes denoted ${\\displaystyle \\sigma _{XY}}{\\displaystyle \\sigma _{XY}}$ or ${\\displaystyle \\sigma (X,Y)}\\sigma (X,Y)$, in analogy to variance. By using the linearity property of expectations, this can be simplified to the expected value of their product minus the product of their expected values:\n",
    "\n",
    "![expected covariance](../img/b82a8c24b0063ffd95d8624f460acaaacb2a99b3.svg)"
   ]
  },
  {
   "cell_type": "markdown",
   "id": "8c01a5e2-47fa-46cc-9c6e-54e2596070d3",
   "metadata": {},
   "source": [
    "but this equation is susceptible to catastrophic cancellation (see the section on numerical computation below).\n",
    "\n",
    "The units of measurement of the covariance ${\\displaystyle \\operatorname {cov} (X,Y)}$ are those of $X$ times those of $Y$. By contrast, correlation coefficients, which depend on the covariance, are a dimensionless measure of linear dependence. (In fact, correlation coefficients can simply be understood as a normalized version of covariance.)"
   ]
  },
  {
   "cell_type": "markdown",
   "id": "54e3dc72-c3ca-412c-9959-9958b82de9a9",
   "metadata": {},
   "source": [
    "#### Definition of complex random variables\n",
    "The covariance between two complex random variables $Z$, $W$ is defined as:\n",
    "\n",
    "![complex covariance](../img/cc823fe25634365b1859a3ee206ca894203a9ee2.svg)\n",
    "\n",
    "It can also be equivalent expressed, without directly refering to the means, as:\n",
    "\n",
    "![complex covariance](../img/b4958d7088b98a90684bb7420eb8a722f37fc1a7.svg)\n",
    "\n",
    "More generally, if there are n possible realizations of $(X, Y)$, namely $(x_i, y_i)$ but possibly unequal probabilities $p_i$ for $i=1,\\dots,n$, then covariance is:\n",
    "\n",
    "![complex covariance](../img/18143cb5b668ff2cc739385a5916d9317bb74df0.svg)"
   ]
  },
  {
   "cell_type": "markdown",
   "id": "56af211f-25c4-47f2-9b6d-aaef6a53a360",
   "metadata": {},
   "source": [
    "### Properties\n",
    "#### Covariance with itself\n",
    "The variance is a special case of the covariance in which the two variables are identical (that is, in which one variable always takes the same value as the other):\n",
    "\n",
    "![variance](../img/c873864ae93a4914ef569c713e91081a739ea67f.svg)\n",
    "\n",
    "#### Covariance of linear combinations\n",
    "\n",
    "If $X$, $Y$, $W$, and $V$ are real-world random variables and a,b,c,d are real-valued constants, then the following facts are a consequence of the definition of covariance:\n",
    "\n",
    "![covariance](../img/584bd965613df2b62869bcc0613bc27960b02f92.svg)\n",
    "\n",
    "For a sequence $X_1,\\dots,X_n$ of random variables in real-valued, and constants $a_1,\\dots,a_n$, we have:\n",
    "\n",
    "![covariance](../img/28c23850e571feb79b4ebc1f726797cd70586b50.svg)"
   ]
  },
  {
   "cell_type": "markdown",
   "id": "8309c307-3283-4bc9-a147-0af54c83bce0",
   "metadata": {},
   "source": [
    "#### Hoeffding's covariance identity\n",
    "\n",
    "A useful identity to compute the covariance between two random variables$ {\\displaystyle X,Y}$ is the Hoeffding's covariance identity:\n",
    "\n",
    "![covariance](../img/d0d056cae5cbf91462012144faf266e72d568ce4.svg)\n",
    "\n",
    "where ${\\displaystyle F_{(X,Y)}(x,y)}$ is the joint cumulative distribution function of the random vector ${\\displaystyle (X,Y)}$ and ${\\displaystyle F_{X}(x),F_{Y}(y)}$ are the marginals."
   ]
  },
  {
   "cell_type": "markdown",
   "id": "eab172a9-67b6-4d92-a205-49fd4a3cb35c",
   "metadata": {},
   "source": [
    "#### Uncorrelatedness and independence\n",
    "\n",
    "Random variables whose covariance is zero are called uncorrelated. Similarly, the components of random vectors whose covariance matrix is zero in every entry outside the main diagonal are also called uncorrelated.\n",
    "\n",
    "If ${\\displaystyle X}$ and ${\\displaystyle Y}$ are independent random variables, then their covariance is zero. This follows because under independence:\n",
    "\n",
    "![indepedency](../img/c0c2870ec57051083bd6262aa4069a2500dfda44.svg)\n",
    "\n",
    "The converse, however, is not generally true. For example, let ${\\displaystyle X}$ be uniformly distributed in ${\\displaystyle [-1,1]}$ and let ${\\displaystyle Y=X^{2}}$. Clearly, ${\\displaystyle X}$ and ${\\displaystyle Y}$ are not independent, but\n",
    "\n",
    "${\\displaystyle {\\begin{aligned}\\operatorname {cov} (X,Y)&=\\operatorname {cov} \\left(X,X^{2}\\right)\\\\&=\\operatorname {E} \\left[X\\cdot X^{2}\\right]-\\operatorname {E} [X]\\cdot \\operatorname {E} \\left[X^{2}\\right]\\\\&=\\operatorname {E} \\left[X^{3}\\right]-\\operatorname {E} [X]\\operatorname {E} \\left[X^{2}\\right]\\\\&=0-0\\cdot \\operatorname {E} [X^{2}]\\\\&=0.\\end{aligned}}}$\n",
    "\n",
    "In this case, the relationship between ${\\displaystyle Y}$ and ${\\displaystyle X}$ is non-linear, while correlation and covariance are measures of linear dependence between two random variables. This example shows that if two random variables are uncorrelated, that does not in general imply that they are independent. However, if two variables are jointly normally distributed (but not if they are merely individually normally distributed), uncorrelatedness does imply independence."
   ]
  },
  {
   "cell_type": "markdown",
   "id": "518da216-6f98-41a4-b8ac-403263e13016",
   "metadata": {},
   "source": [
    "### Reference\n",
    "\n",
    "Wikipedia. (2, Apr 2022). *Covariance*. https://en.wikipedia.org/wiki/Covariance."
   ]
  }
 ],
 "metadata": {
  "kernelspec": {
   "display_name": "Python 3 (ipykernel)",
   "language": "python",
   "name": "python3"
  },
  "language_info": {
   "codemirror_mode": {
    "name": "ipython",
    "version": 3
   },
   "file_extension": ".py",
   "mimetype": "text/x-python",
   "name": "python",
   "nbconvert_exporter": "python",
   "pygments_lexer": "ipython3",
   "version": "3.8.10"
  }
 },
 "nbformat": 4,
 "nbformat_minor": 5
}
