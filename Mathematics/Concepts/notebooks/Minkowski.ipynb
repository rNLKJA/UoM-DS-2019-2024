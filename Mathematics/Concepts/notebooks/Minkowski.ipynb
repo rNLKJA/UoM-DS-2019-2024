{
 "cells": [
  {
   "cell_type": "markdown",
   "id": "ce3524c9-d9e1-4de6-8fda-1bf88c85f07f",
   "metadata": {},
   "source": [
    "# Minkowski Distance\n",
    "\n",
    "The Minkowski distance or Minkowski metric is a metric in a normed vector space which can be considered as a generalization of both the Euclidean distance and the Manhattan distance. It is named after the German mathematician Hermann Minkowski."
   ]
  },
  {
   "cell_type": "markdown",
   "id": "83de7b1d-0a93-4282-b417-3ebd99ff49a0",
   "metadata": {},
   "source": [
    "The Minkowski distance of order $p$ (where p is an integer) between two points: $X = (x_1, x_2, ..., x_n)$ and $Y = (y_1, y_2, ..., y_n)$ in $R^n$ is defined as: $D(X, Y) = {\\sum^n_{i=1} |x_i - y_i|^p} ^ \\frac{1}{p}$\n"
   ]
  },
  {
   "cell_type": "markdown",
   "id": "fcf0bf3f-261d-4364-aeb4-1ed237d3d4bd",
   "metadata": {},
   "source": [
    "In most of time, people using Minkowski distance with $p = 1$ and $p = 2$, which corresponding to manhattan distance and euclidean distance.\n",
    "\n",
    "when p = 1, Minkowski distance = Manhatten distance $D(X, Y) = \\sum^n_{i=1} |x_i - y_i|$\n",
    "\n",
    "when p = 2 Minkowski distance = Manhatten distance $D(X, Y) = {\\sum^n_{i=1} |x_i - y_i|^2} ^ \\frac{1}{2} = \\sqrt{\\sum^n_{i=1} |x_i - y_i|^2}$"
   ]
  },
  {
   "cell_type": "code",
   "execution_count": 1,
   "id": "a9bf3170-3b0a-4e66-aa1f-7e05a2942c1f",
   "metadata": {
    "execution": {
     "iopub.execute_input": "2022-05-30T06:50:32.050854Z",
     "iopub.status.busy": "2022-05-30T06:50:32.050690Z",
     "iopub.status.idle": "2022-05-30T06:50:32.065502Z",
     "shell.execute_reply": "2022-05-30T06:50:32.063529Z",
     "shell.execute_reply.started": "2022-05-30T06:50:32.050796Z"
    },
    "tags": []
   },
   "outputs": [
    {
     "data": {
      "text/plain": [
       "'/mnt/f/Desktop/fundamental_machine_learning_concepts'"
      ]
     },
     "execution_count": 1,
     "metadata": {},
     "output_type": "execute_result"
    }
   ],
   "source": [
    "# set working directory\n",
    "import os\n",
    "os.chdir('../../')\n",
    "os.getcwd()"
   ]
  },
  {
   "cell_type": "code",
   "execution_count": 2,
   "id": "ec0ba0cb-7227-442a-989a-a9ee5f3d2ce3",
   "metadata": {
    "execution": {
     "iopub.execute_input": "2022-05-30T06:50:32.066450Z",
     "iopub.status.busy": "2022-05-30T06:50:32.066281Z",
     "iopub.status.idle": "2022-05-30T06:50:32.235613Z",
     "shell.execute_reply": "2022-05-30T06:50:32.234634Z",
     "shell.execute_reply.started": "2022-05-30T06:50:32.066431Z"
    },
    "tags": []
   },
   "outputs": [
    {
     "name": "stdout",
     "output_type": "stream",
     "text": [
      "Minkowski distance where p = 1: 21.0\n",
      "Minkowski distance where p = 2: 9.433981132056603\n",
      "Manhattan distance use Minkowski distance: 21.0\n",
      "Euclidean distance use Minkowski distance: 9.433981132056603\n"
     ]
    }
   ],
   "source": [
    "# import distance module\n",
    "from src.distance import *\n",
    "import numpy as np\n",
    "\n",
    "# define array\n",
    "array1 = np.array([1, 2, 3, 4, 5])\n",
    "array2 = np.array([5, 6, 7, 9, 9])\n",
    "\n",
    "# calculate Minkowski distance when p = 1\n",
    "print(f\"Minkowski distance where p = 1: {Distance.Minkowski(array1, array2, p=1)}\")\n",
    "\n",
    "# calculate Minkowski distance when p = 2\n",
    "print(f\"Minkowski distance where p = 2: {Distance.Minkowski(array1, array2, p=2)}\")\n",
    "\n",
    "# calculate Manhattan distance \n",
    "print(f\"Manhattan distance use Minkowski distance: {Distance.Manhattan(array1, array2)}\")\n",
    "\n",
    "# calculate Euclidean distance\n",
    "print(f\"Euclidean distance use Minkowski distance: {Distance.Euclidean(array1, array2)}\")"
   ]
  },
  {
   "cell_type": "code",
   "execution_count": 3,
   "id": "3314533f-eb2e-440f-b770-75027eb8ba8c",
   "metadata": {
    "execution": {
     "iopub.execute_input": "2022-05-30T06:50:32.237145Z",
     "iopub.status.busy": "2022-05-30T06:50:32.236845Z",
     "iopub.status.idle": "2022-05-30T06:50:32.369666Z",
     "shell.execute_reply": "2022-05-30T06:50:32.367920Z",
     "shell.execute_reply.started": "2022-05-30T06:50:32.237127Z"
    },
    "tags": []
   },
   "outputs": [
    {
     "name": "stdout",
     "output_type": "stream",
     "text": [
      "21\n",
      "9.433981132056603\n"
     ]
    }
   ],
   "source": [
    "# check minkowski api accuracy\n",
    "from scipy.spatial import distance\n",
    "\n",
    "# manhattan distance\n",
    "print(distance.cityblock(array1, array2))\n",
    "\n",
    "# euclidean distance\n",
    "print(distance.euclidean(array1, array2))"
   ]
  }
 ],
 "metadata": {
  "kernelspec": {
   "display_name": "Python 3 (ipykernel)",
   "language": "python",
   "name": "python3"
  },
  "language_info": {
   "codemirror_mode": {
    "name": "ipython",
    "version": 3
   },
   "file_extension": ".py",
   "mimetype": "text/x-python",
   "name": "python",
   "nbconvert_exporter": "python",
   "pygments_lexer": "ipython3",
   "version": "3.8.10"
  }
 },
 "nbformat": 4,
 "nbformat_minor": 5
}
