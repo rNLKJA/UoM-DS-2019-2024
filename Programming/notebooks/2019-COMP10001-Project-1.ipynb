{
 "cells": [
  {
   "cell_type": "markdown",
   "id": "ac97a998-48d3-454f-9053-b41f1358f223",
   "metadata": {},
   "source": [
    "<div align=center><h1>COMP10001 2019 S2: Foundation of Computing<br>Project 1 eVoting</h1></div>"
   ]
  },
  {
   "cell_type": "markdown",
   "id": "f24c1a1a-2311-4c11-8308-1a498bc487e9",
   "metadata": {},
   "source": [
    "Imagine you are a programmer for the Australian Electoral Commission, and you have been asked to automate the counting of electronic votes. Can you write programs to automate vote counting for different voting schemes?\n",
    "\n",
    "**Background**\n",
    "\n",
    "We consider an election where multiple candidates are running to be the representative of a given electorate. Each voter lodges their vote for their preferred candidate(s). The candidate with the most votes wins the electorate.\n",
    "\n",
    "**Example of a simple voting scheme**\n",
    "\n",
    "**Candidates**: chris, marion, nic\n",
    "\n",
    "**Number of votes for each candidate**: chris : 121, marion : 399, nic : 180\n",
    "\n",
    "**Winning candidate**: marion\n",
    "\n",
    "A major challenge in voting schemes is how to reflect the preferences of voters, so that the winning candidate has the support of the majority. We will see what this means in the different voting schemes.\n",
    "\n",
    "We will consider three different voting schemes:\n",
    "- First past the post (used in the UK, US, Survivor)\n",
    "- Second preference\n",
    "- Multiple preferences (used in Australia)\n",
    "\n",
    "This is the simplest voting scheme.\n",
    "- There is a given list of candidates.\n",
    "- Each voter picks their preferred candidate.\n",
    "- We count the number of votes for each candidate.\n",
    "- The candidate with the most votes wins."
   ]
  },
  {
   "cell_type": "markdown",
   "id": "f3e8c2dd-933f-432b-9dc0-43634fb173cb",
   "metadata": {},
   "source": [
    "## Question 1: First Past the post\n",
    "\n",
    "**Example of a First Past the Post voting scheme**\n",
    "\n",
    "**Candidates**: chris, marion, nic\n",
    "\n",
    "Consider an electorate with 9 voters\n",
    "\n",
    "**Votes**: chris, marion, marion, nic, marion, nic, nic, chris, marion\n",
    "\n",
    "**Number of votes for each candidate**: chris: 2, marion: 4, nic: 3\n",
    "\n",
    "**Winning candidate**: marion\n",
    "\n",
    "> Note: the winner might not have an absolute majority, i.e., less than 50% of the electorate voted for the winner.\n",
    "\n",
    "> Note: an election can result in a tie, where two or more candidates have the highest number of votes. For example-\n",
    "\n",
    "**Candidates**: chris, marion, nic\n",
    "\n",
    "Consider an electorate with 9 voters\n",
    "\n",
    "**Votes**: chris, nic, marion, nic, chris, nic, nic, chris, chris\n",
    "\n",
    "**Number of votes for each candidate**: chris: 4, marion: 1, nic: 4\n",
    "\n",
    "**Winning candidate**: tie\n",
    "\n",
    "Write a function first_past_the_post(votes) that returns the outcome of an election for a given list of votes using the First Past the Post voting scheme.\n",
    "\n",
    "Note: your function should use either a for loop or a while loop to count the votes.\n",
    "\n",
    "The parameters to this function are as follows:\n",
    "- `votes` is a list of two or more strings, where each string corresponds to a vote for the candidate whose name is in the string.\n",
    "\n",
    "Your first_past_the_post returns a string containing either the name of the candidate with the most votes using First Past the Post voting, or the string 'tie' if there is a tie.\n",
    "\n",
    "Assumptions:\n",
    "- There is no candidate with the name “tie”.\n",
    "- There are at least two different candidates receiving votes.\n",
    "\n",
    "Here are some example calls to your function:\n",
    "\n",
    "```python\n",
    ">>> v1 = [\"chris\", \"marion\", \"marion\", \"nic\", \"marion\", \"nic\", \"nic\", \"chris\", \"marion\"]\n",
    ">>> first_past_the_post(v1)\n",
    "'marion'\n",
    ">>> v2 = [\"chris\", \"chris\", \"marion\", \"nic\", \"chris\", \"nic\", \"nic\", \"nic\", \"chris\"]\n",
    ">>> first_past_the_post(v2)\n",
    "'tie'\n",
    "```"
   ]
  },
  {
   "cell_type": "code",
   "execution_count": null,
   "id": "e5a9bb85-34e4-4aba-bed3-e99df02d3f74",
   "metadata": {},
   "outputs": [],
   "source": []
  },
  {
   "cell_type": "code",
   "execution_count": null,
   "id": "93eede7d-3cdd-496a-a7aa-fd356db9aba9",
   "metadata": {},
   "outputs": [],
   "source": []
  },
  {
   "cell_type": "markdown",
   "id": "ee9e8cb0-a8a6-445b-a362-983879b0c4c4",
   "metadata": {},
   "source": [
    "## Question 2: Second Preference\n",
    "\n",
    "A drawback of First Past the Post voting is that the winning candidate might not have the majority support of the voters.\n",
    "\n",
    "For example, in the first set of votes the majority of voters did not vote for “marion”.\n",
    "\n",
    "Those voters for the losing candidates “nic” and “chris” might have preferred the other losing candidates ahead of the winner “marion”.\n",
    "\n",
    "For example, if the voters for “chris” preferred “nic” ahead of “marion”, and the voters for “nic” preferred “chris” ahead of “marion”, then either “chris” or “nic” might be a better consensus winner with the majority of voters.\n",
    "\n",
    "An alternative voting scheme is to give each voter a second preference.\n",
    "- Each voter gives their first preference candidate and their second preference candidate in their vote, i.e., they pick two candidates in order of decreasing preference.\n",
    "- We then count the votes for each candidate using the first preference votes (in the same way we would for First Past the Post), to see if there is a candidate with an absolute majority of the votes. If there is a candidate with > 50% of the first preference votes, then that candidate is the winner.\n",
    "- If there is no candidate with an absolute majority based on the first preference votes, then we look at the second preference votes. We find the candidate with the fewest number of first preference votes (the lowest vote candidate). We then look at the second preferences of the votes for that candidate, and reallocate those votes to remaining candidates. The winner is the candidate with the most votes after the reallocation of the second preferences from lowest vote candidate are added to the first preference votes for the other candidates.\n",
    "- If there are two or more lowest vote candidates with an equal number of first preference votes, reallocate the candidate whose name is lower than the other name if you compare the two names.\n",
    "\n",
    "> Note: a candidate might receive no first preference votes but many second preference votes.\n",
    "\n",
    "**Example of a Second Preference voting scheme**\n",
    "**Candidates**: chris, marion, nic\n",
    "\n",
    "Consider an electorate with 9 voters\n",
    "\n",
    "**Votes**: (chris, nic), (marion, nic), (marion, chris), (nic, chris), (marion, nic), (nic, chris), (nic, chris), (chris, nic), (marion, nic)\n",
    "\n",
    "**Number of votes for each candidate based on first preferences**: chris: 2, marion: 4, nic: 3\n",
    "\n",
    "There is no candidate with an absolute majority, “chris” has fewest first preferences. In this voting scheme, reallocate second preferences from votes for “chris”, to add to first preference votes for other candidates\n",
    "\n",
    "**Votes after reallocation**: marion: 4 + 0 = 4, nic: 3 + 2 = 5\n",
    "\n",
    "**Winning candidate**: nic\n",
    "\n",
    "**Example of a Second Preference voting scheme**\n",
    "**Candidates**: chris, marion, nic\n",
    "\n",
    "Consider an electorate with 6 voters\n",
    "\n",
    "**Votes**: (chris, nic), (marion, nic), (marion, chris), (nic, chris), (chris, marion), (nic, chris)\n",
    "\n",
    "**Number of votes for each candidate based on first preferences**: chris: 2, marion: 2, nic: 2\n",
    "\n",
    "There is no candidate with an absolute majority, all candidates have same number of first preferences\n",
    "\n",
    "Since chris < marion < nic, reallocate second preferences from votes for “chris” to add to first preference votes for other candidates\n",
    "\n",
    "**Votes after reallocation**: marion: 2 + 1 = 3, nic: 2 + 1 = 3\n",
    "\n",
    "**Winning candidate**: tie\n",
    "\n",
    "Write a function second_preference(votes) that returns the outcome of an election for a given list of votes using the Second Preference voting scheme.\n",
    "\n",
    "The parameters to this function are as follows:\n",
    "- `votes` list of votes, where each vote is a list that contains two strings, such that the first string is the name of the first preference candidate and the second string is the name of that second preference candidate for that vote.\n",
    "\n",
    "Your second_preference function should return a string containing either the name of the candidate with the most votes using Second Preference voting scheme, or the string 'tie' if there is a tie.\n",
    "\n",
    "Assumptions:\n",
    "- There is no candidate with the name “tie”.\n",
    "- All votes contain two preferences, and that the two preferences are different, i.e. there will not be a list with 'candidate' as the value for both first and second preference.\n",
    "\n",
    "Here are some example calls to your function:\n",
    "\n",
    "```python\n",
    ">>> v1 = [[\"chris\", \"nic\"], [\"marion\", \"nic\"], [\"marion\", \"chris\"], [\"nic\", \"chris\"], [\"marion\", \"nic\"], [\"nic\", \"chris\"], [\"nic\", \"chris\"], [\"chris\", \"nic\"], [\"marion\", \"nic\"]]\n",
    ">>> second_preference(v1)\n",
    "'nic'\n",
    ">>> v2 = [[\"chris\", \"nic\"], [\"marion\", \"nic\"], [\"marion\", \"chris\"], [\"nic\", \"chris\"], [\"chris\", \"marion\"], [\"nic\", \"chris\"]]\n",
    ">>> second_preference(v2)\n",
    "'tie'\n",
    ">>> v3 = [[\"chris\", \"mini\"], [\"marion\", \"nic\"], [\"marion\", \"chris\"], [\"nic\", \"chris\"], [\"marion\", \"nic\"], [\"nic\", \"chris\"], [\"nic\", \"chris\"], [\"chris\", \"mini\"], [\"marion\", \"nic\"]]\n",
    ">>> second_preference(v3)\n",
    "'marion'\n",
    "```"
   ]
  },
  {
   "cell_type": "code",
   "execution_count": null,
   "id": "451cc856-09aa-4340-b3c4-b52daabb1cc0",
   "metadata": {},
   "outputs": [],
   "source": []
  },
  {
   "cell_type": "code",
   "execution_count": null,
   "id": "3b093f7a-f09a-4dd2-b122-8e2a8fb6aca3",
   "metadata": {},
   "outputs": [],
   "source": []
  },
  {
   "cell_type": "code",
   "execution_count": null,
   "id": "57d5e4b2-ccd5-4a84-8deb-9728c9e7ea56",
   "metadata": {},
   "outputs": [],
   "source": []
  },
  {
   "cell_type": "markdown",
   "id": "19e956a1-0fad-4f2e-a98b-b98e474e1f29",
   "metadata": {},
   "source": [
    "## Multiple Preferences\n",
    "\n",
    "Note that Second Preference voting does not always ensure that the winning candidate has the majority support of the voters (see the third example for Q2).\n",
    "\n",
    "Our third voting scheme called Multiple Preferences requires each voter to list all candidates in decreasing order of preference.\n",
    "- In this case, we can apply multiple rounds of reallocation, where each time we reallocate the remaining preferences of the candidate with the lowest number of votes so far to the other candidates.\n",
    "- We keep doing this until one candidate has an absolute majority, or there are only two candidates left.\n",
    "\n",
    "As before, if there are two or more lowest vote candidates with an equal number of allocated votes, then reallocate the candidate whose name is lower than the other name if you compare their names.\n",
    "\n",
    "Note: when reallocating a vote, the next preference may no longer be available if that candidate has already been reallocated, and so we go straight to the following preference.\n",
    "\n",
    "**Example of a multiple preferences voting scheme**\n",
    "**Candidates**: a, b, c, d, e\n",
    "\n",
    "Consider an electorate with 5 voters\n",
    "\n",
    "**Votes**: (a, b, c, d, e), (b, e, d, c, a), (c, d, e, b, a), (d, b, a, c, e), (e, a, c, b, d)\n",
    "\n",
    "**Number of votes for each candidate based on first preferences**: a: 1, b: 1, c: 1, d: 1, e: 1\n",
    "\n",
    "No candidate has an absolute majority. Among the equal lowest candidates “a” has the name that is first in sorted order\n",
    "\n",
    "Reallocate vote for “a” to the next preference candidate:\n",
    "\n",
    "b: (b, e, d, c, a), (b, c, d, e) – from “a”\n",
    "\n",
    "c: (c, d, e, b, a)\n",
    "\n",
    "d: (d, b, a, c, e)\n",
    "\n",
    "e: (e, a, c, b, d)\n",
    "\n",
    "No candidate has an absolute majority. Among the equal lowest candidates (c, d, e), “c” has the name that is first in sorted order.\n",
    "\n",
    "Reallocate vote for “c” to the next preference candidate:\n",
    "\n",
    "b: (b, e, d, c, a), (b, c, d, e)\n",
    "\n",
    "d: (d, b, a, c, e), (d, e, b, a) – from “c”\n",
    "\n",
    "e: (e, a, c, b, d)\n",
    "\n",
    "No candidate has an absolute majority. “e” is the candidate with the fewest votes.\n",
    "\n",
    "Reallocate vote for “e” to the next preference candidate (note: both “a” and “c” have already been eliminated, so the next preference from “e” is “b”:\n",
    "\n",
    "b: (b, e, d, c, a), (b, c, d, e), (b, d)\n",
    "\n",
    "d: (d, b, a, c, e), (d, e, b, a)\n",
    "\n",
    "**Winning candidate**: b\n",
    "\n",
    "Candidate “b” has an absolute majority and wins the election!\n",
    "\n",
    "Write a function multiple_preference(votes) that returns the outcome of an election for a given list of votes using the Multiple Preference voting scheme.\n",
    "- votes a list of votes where each vote is a list of strings corresponding to the candidates in decreasing order of preference. Returns a string containing either the name of the candidate with the most votes using Preferences voting, or the string “tie” if there is a tie.\n",
    "\n",
    "Your multiple_preference function should return a string containing either the name of the candidate with the most votes using Multiple Preference voting scheme, or the string 'tie' if there is a tie.\n",
    "\n",
    "Assumptions:\n",
    "- There is no candidate with the name “tie”.\n",
    "- Each vote contains all candidates, and that each candidate appears only once in each vote.\n",
    "\n",
    "Here are some example calls to your function:\n",
    "```python\n",
    ">>> v1 = [[\"a\", \"b\", \"c\", \"d\", \"e\"], [\"b\", \"e\", \"d\", \"c\", \"a\"], [\"c\", \"d\", \"e\", \"b\", \"a\"], [\"d\", \"b\", \"a\", \"c\", \"e\"], [\"e\", \"a\", \"c\", \"b\", \"d\"]]\n",
    ">>> multiple_preference(v1)\n",
    "'b'\n",
    ">>> v2 = [[\"a\", \"b\", \"c\", \"d\", \"e\"], [\"b\", \"e\", \"d\", \"c\", \"a\"], [\"c\", \"d\", \"e\", \"b\", \"a\"], [\"d\", \"b\", \"a\", \"c\", \"e\"], [\"d\", \"a\", \"b\", \"c\", \"e\"], [\"e\", \"a\", \"c\", \"b\", \"d\"]]\n",
    ">>> multiple_preference(v2)\n",
    "'tie'\n",
    "```"
   ]
  },
  {
   "cell_type": "code",
   "execution_count": null,
   "id": "44e0f71e-b7d4-4e38-b31a-62641b7b5202",
   "metadata": {
    "tags": []
   },
   "outputs": [],
   "source": []
  },
  {
   "cell_type": "code",
   "execution_count": null,
   "id": "e6908261-6b42-460f-aad2-e727d3cedc77",
   "metadata": {},
   "outputs": [],
   "source": []
  },
  {
   "cell_type": "code",
   "execution_count": null,
   "id": "bfa7660f-fe7f-47ff-81cc-5372d8cfa0ba",
   "metadata": {},
   "outputs": [],
   "source": []
  },
  {
   "cell_type": "code",
   "execution_count": null,
   "id": "cc1913dc-be94-4662-8d21-23d33b292726",
   "metadata": {},
   "outputs": [],
   "source": []
  },
  {
   "cell_type": "markdown",
   "id": "44787335-61bc-4b30-971d-aa2d9135833d",
   "metadata": {},
   "source": [
    "## Valid Votes\n",
    "\n",
    "Before votes are counted in a real election, we need to make sure that a vote is valid, i.e., it does not contain any mistakes. We will focus on checking whether a given vote is valid for the multiple preferences voting scheme.\n",
    "\n",
    "**Consider an electorate with the following 5 candidates**: a, b, c, d, e\n",
    "\n",
    "These would be examples of valid votes:\n",
    "\n",
    "(a, b, c, d, e)\n",
    "\n",
    "(b, e, d, c, a)\n",
    "\n",
    "These would be examples of invalid votes:\n",
    "\n",
    "(d, b, a, c)\n",
    "\n",
    "(d, g, b, a, c)\n",
    "\n",
    "Write a function is_valid_vote(vote, candidates) that returns a boolean value representing whether the list of votes is valid based on the candidates.\n",
    "\n",
    "The parameters to this function are as follows:\n",
    "\n",
    "vote a vote to be validated (could have incorrect syntax for a Multiple Preferences vote)\n",
    "candidates a list of unique strings corresponding to the candidates\n",
    "is_valid_vote returns a Boolean value True if the given vote is valid for the given list of candidates, or False otherwise.\n",
    "\n",
    "Assumptions:\n",
    "\n",
    "You can assume that the given list of candidates is correctly formatted and does not contain any errors.\n",
    "You should use the specification of votes for Multiple Preferences voting as described in Question 3.\n",
    "Here are some example calls to your function:\n",
    "\n",
    "```python\n",
    ">>> c = [\"tom1\", \"li\", \"tom2\"]\n",
    ">>> is_valid_vote([\"tom2\", \"tom1\", \"li\"], c)\n",
    "True\n",
    ">>> is_valid_vote([\"tom2\", \"tom2\", \"li\"], c)\n",
    "False\n",
    ">>> is_valid_vote([\"tom2\"], c)\n",
    "False\n",
    "```"
   ]
  },
  {
   "cell_type": "code",
   "execution_count": 1,
   "id": "03ceddb9-abd9-4a8f-a503-04c57d561b5a",
   "metadata": {
    "execution": {
     "iopub.execute_input": "2022-06-09T06:15:53.903504Z",
     "iopub.status.busy": "2022-06-09T06:15:53.902993Z",
     "iopub.status.idle": "2022-06-09T06:15:53.909014Z",
     "shell.execute_reply": "2022-06-09T06:15:53.908431Z",
     "shell.execute_reply.started": "2022-06-09T06:15:53.903433Z"
    }
   },
   "outputs": [],
   "source": [
    "def is_valid_vote(vote, candidates):\n",
    "    # compare item in two list\n",
    "    return sorted(vote) == sorted(candidates)"
   ]
  },
  {
   "cell_type": "code",
   "execution_count": 2,
   "id": "9aca3541-2253-42f8-bd05-21a951b2be27",
   "metadata": {
    "execution": {
     "iopub.execute_input": "2022-06-09T06:16:02.981582Z",
     "iopub.status.busy": "2022-06-09T06:16:02.981109Z",
     "iopub.status.idle": "2022-06-09T06:16:02.984670Z",
     "shell.execute_reply": "2022-06-09T06:16:02.984104Z",
     "shell.execute_reply.started": "2022-06-09T06:16:02.981559Z"
    }
   },
   "outputs": [],
   "source": [
    "c = [\"tom1\", \"li\", \"tom2\"]"
   ]
  },
  {
   "cell_type": "code",
   "execution_count": 3,
   "id": "80d8e599-b836-4c2d-a669-1d5ccf251095",
   "metadata": {
    "execution": {
     "iopub.execute_input": "2022-06-09T06:16:03.311175Z",
     "iopub.status.busy": "2022-06-09T06:16:03.310771Z",
     "iopub.status.idle": "2022-06-09T06:16:03.317970Z",
     "shell.execute_reply": "2022-06-09T06:16:03.317374Z",
     "shell.execute_reply.started": "2022-06-09T06:16:03.311156Z"
    }
   },
   "outputs": [
    {
     "data": {
      "text/plain": [
       "True"
      ]
     },
     "execution_count": 3,
     "metadata": {},
     "output_type": "execute_result"
    }
   ],
   "source": [
    "is_valid_vote([\"tom2\", \"tom1\", \"li\"], c)"
   ]
  },
  {
   "cell_type": "code",
   "execution_count": 4,
   "id": "cbc61957-8d4d-4840-91cf-dbde87636ab6",
   "metadata": {
    "execution": {
     "iopub.execute_input": "2022-06-09T06:16:03.674873Z",
     "iopub.status.busy": "2022-06-09T06:16:03.674287Z",
     "iopub.status.idle": "2022-06-09T06:16:03.678614Z",
     "shell.execute_reply": "2022-06-09T06:16:03.678162Z",
     "shell.execute_reply.started": "2022-06-09T06:16:03.674853Z"
    }
   },
   "outputs": [
    {
     "data": {
      "text/plain": [
       "False"
      ]
     },
     "execution_count": 4,
     "metadata": {},
     "output_type": "execute_result"
    }
   ],
   "source": [
    "is_valid_vote([\"tom2\", \"tom2\", \"li\"], c)"
   ]
  },
  {
   "cell_type": "code",
   "execution_count": 5,
   "id": "ffa845a0-09fd-4606-85dc-f789abf4b4ce",
   "metadata": {
    "execution": {
     "iopub.execute_input": "2022-06-09T06:16:04.261300Z",
     "iopub.status.busy": "2022-06-09T06:16:04.260896Z",
     "iopub.status.idle": "2022-06-09T06:16:04.265230Z",
     "shell.execute_reply": "2022-06-09T06:16:04.264617Z",
     "shell.execute_reply.started": "2022-06-09T06:16:04.261282Z"
    }
   },
   "outputs": [
    {
     "data": {
      "text/plain": [
       "False"
      ]
     },
     "execution_count": 5,
     "metadata": {},
     "output_type": "execute_result"
    }
   ],
   "source": [
    "is_valid_vote([\"tom2\"], c)"
   ]
  }
 ],
 "metadata": {
  "kernelspec": {
   "display_name": "Python 3 (ipykernel)",
   "language": "python",
   "name": "python3"
  },
  "language_info": {
   "codemirror_mode": {
    "name": "ipython",
    "version": 3
   },
   "file_extension": ".py",
   "mimetype": "text/x-python",
   "name": "python",
   "nbconvert_exporter": "python",
   "pygments_lexer": "ipython3",
   "version": "3.8.10"
  }
 },
 "nbformat": 4,
 "nbformat_minor": 5
}
