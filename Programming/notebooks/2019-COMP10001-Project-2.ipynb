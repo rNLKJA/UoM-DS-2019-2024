{
 "cells": [
  {
   "cell_type": "markdown",
   "id": "009b221d-1239-4c15-93de-9dccea39d6d9",
   "metadata": {
    "tags": []
   },
   "source": [
    "<div align=center><h1>COMP10001 2019 S2: Foundation of Computing<br>Project Toy World</h1></div>"
   ]
  },
  {
   "cell_type": "markdown",
   "id": "f7f05ede-0ed9-49e7-94c3-23a5635d63de",
   "metadata": {},
   "source": [
    "## Introduction\n",
    "We often use computers to discover efficient solutions to problems. Artificial intelligence provides a range of techniques for solving a wide variety of problems. In this project, you will implement two techniques for solving a search problem.\n",
    "\n",
    "Often when developing and demonstrating AI techniques, we use \"toy worlds\": simplified problems for which a concise, exact definition is possible. This is in contrast to \"real world\" problems, which are often much messier.\n",
    "\n",
    "The \"toy world\" scenario that we will use for this project is as follows:\n",
    "\n",
    "**Bring me the treasure!**\n",
    "\n",
    "Falca (a lesser known cousin of Frodo) has ventured into a cave to collect the treasure that lies therein. This cave can be represented as a two-dimensional grid, completely enclosed by stone walls. Falca arrives at the entrance to the cave, and must locate all of the treasure it contains (a known quantity) before departing from the cave exit (a separate location to the entrance).\n",
    "\n",
    "Unfortunately, the cave is occupied by a dragon, who will not allow Falca to pass unless armed with a sword. Falca hasn't come prepared with a sword, but there is usually one to be found somewhere in the cave.\n",
    "\n",
    "We want to help Falca discover the most efficient route from entrance to exit that collects all the treasure along the way.\n",
    "\n",
    "Note that this is similar to the type of problem a navigation application might need to solve in order to provide efficient directions to a destination, or that a delivery company might need to solve in order to deliver parcels efficiently. Hopefully, it is also a little bit entertaining!\n",
    "\n",
    "The overall problem to solve is to identify the shortest path through an arbitrary cave that will enable Falca to collect all of the treasure and escape from the exit.\n",
    "\n",
    "We will break this down into several tasks.\n",
    "- Creating a representation of the cave\n",
    "- Checking whether a given path is a valid solution to the problem\n",
    "- Identifying the shortest path between two points in the cave\n",
    "- Identifying the optimal (best) path that solves the whole problem"
   ]
  },
  {
   "cell_type": "markdown",
   "id": "360f9cdf-2fdf-4dd5-8179-042edf38f3f8",
   "metadata": {},
   "source": [
    "## Question 1: Creating a representation of the cave\n",
    "A valid cave satisfies the following requirements:\n",
    "- There will only ever be (at most) a single feature (entrance, exit, wall, sword, dragon or treasure) in any given location in the cave.\n",
    "- There will always be a single entrance and a single exit in the cave.\n",
    "- There may be (at most) a single sword in the cave.\n",
    "- There may be (at most) a single dragon in the cave.\n",
    "- There may be (at most) three treasures in a cave.\n",
    "- There may be multiple walls in a cave.\n",
    "- A dragon, if one is present, will never be located in one of the locations (up to eight) adjacent to the entrance.\n",
    "\n",
    "Note that a valid cave may contain no sword, dragon, treasures and/or walls.\n",
    "\n",
    "A cave is specified via a dictionary with the following structure:\n",
    "\n",
    "```python\n",
    "data = {\n",
    "  'size': 4,  # the size of the cave\n",
    "  'entrance': (0, 0),  # the location of the entrance (a row-column tuple)\n",
    "  'exit': (2, 1),  # the location of the exit\n",
    "  'dragon': (0, 2),  # the location of the dragon\n",
    "  'sword': (3, 3),  # the location of the sword\n",
    "  'treasure': [(1, 3)],  # a list of treasure locations\n",
    "  'walls': [(1, 1), (1, 2), (2, 2), (2, 3)]  # a list of wall locations\n",
    "}\n",
    "```\n",
    "\n",
    "The different types of location in the cave are identified with different symbols.\n",
    "- `empty` is denoted by '.';\n",
    "- `wall` is denoted by '#';\n",
    "- `entrance` is denoted by '@';\n",
    "- `exit` is denoted by 'X';\n",
    "- `treasure` is denoted by a '$';\n",
    "- `sword` is denoted by 't'; and\n",
    "- `dragon` is denoted by 'W'.\n",
    "\n",
    "The cave corresponding to the specification above is shown in Figure 1.\n",
    "\n",
    "![Example Cave](../img/Figure_1.png)\n",
    "\n",
    "Your first task is to write a function build_cave(data) that builds a two-dimensional representation of a cave from a data dictionary specifying the features of that cave as described on the slide before. The function takes a single argument data, a dictionary of features in the cave, and returns a representation of the cave as a two-dimensional array (ie, a list of lists), or None if the dictionary of features specifies a non-valid cave, according to the rules on the previous slide."
   ]
  },
  {
   "cell_type": "code",
   "execution_count": 255,
   "id": "b58a0c17-585e-4269-9afc-2797f369e10f",
   "metadata": {
    "execution": {
     "iopub.execute_input": "2022-06-09T05:42:25.418941Z",
     "iopub.status.busy": "2022-06-09T05:42:25.418507Z",
     "iopub.status.idle": "2022-06-09T05:42:25.428723Z",
     "shell.execute_reply": "2022-06-09T05:42:25.427971Z",
     "shell.execute_reply.started": "2022-06-09T05:42:25.418920Z"
    },
    "tags": []
   },
   "outputs": [],
   "source": [
    "def valid_crucial_keys(keys):\n",
    "    for key in [\"size\", \"entrance\", \"exit\"]:\n",
    "        if key not in keys:\n",
    "            return False\n",
    "    return True\n",
    "\n",
    "def valid_coord_data(coord, size):\n",
    "    if type(coord) is not tuple:\n",
    "        return False\n",
    "\n",
    "    if coord[0] < 0 or coord[1] < 0 or coord[0] >= size or coord[1] >= size:\n",
    "        return False\n",
    "    \n",
    "    return True\n",
    "    \n",
    "def valid_coords_data(coords, size):\n",
    "    for coord in coords:\n",
    "        if not valid_coord_data(coord, size):\n",
    "            return False\n",
    "    return True\n",
    "\n",
    "def valid_dragon_location(dragon, entrance):\n",
    "    for x in range(entrance[0] - 1, entrance[0] + 2):\n",
    "        for y in range(entrance[1] - 1, entrance[1] + 2):\n",
    "            if (x, y) == dragon:\n",
    "                return False\n",
    "    return True\n",
    "\n",
    "def valid_overlay_points(data):\n",
    "    coords = []\n",
    "    for key in data:\n",
    "        if type(data[key]) is tuple:\n",
    "            coords.append(data[key])\n",
    "        elif type(data[key]) is list:\n",
    "            coords += data[key]\n",
    "    return False if len(coords) != len(set(coords)) else True\n",
    "\n",
    "symbols = {\"sword\": 't', \"entrance\": '@', \"walls\": '#',\n",
    "           \"dragon\": 'W', \"exit\": 'X', \"treasure\": '$'}\n",
    "\n",
    "def build_cave(data):\n",
    "    if not valid_crucial_keys(data.keys()):\n",
    "        return None\n",
    "    \n",
    "    cave = [['.' for _ in range(data[\"size\"])] for _ in range(data[\"size\"])]\n",
    "    \n",
    "    if len(data) > 7: return None\n",
    "    \n",
    "    for key in [k for k in data.keys() if k in [\"entrance\", \"exit\", \"dragon\", \"sword\"]]:\n",
    "        if not valid_coord_data(data[key], data[\"size\"]): return None\n",
    "       \n",
    "    for key in [k for k in data.keys() if k in [\"treasure\", \"walls\"]]:\n",
    "        if key == \"treasure\":\n",
    "            if len(data[key]) > 3: return None\n",
    "        if not valid_coords_data(data[key], data[\"size\"]):\n",
    "            return None\n",
    "    \n",
    "    if \"dragon\" in data:\n",
    "        if not valid_dragon_location(data[\"dragon\"], data[\"entrance\"]): return None\n",
    "        \n",
    "    if not valid_overlay_points(data): return None\n",
    "\n",
    "    for key in data:\n",
    "        if key == \"entrance\":\n",
    "            cave[data[key][0]][data[key][1]] = symbols[key]\n",
    "        elif key == \"exit\":\n",
    "            cave[data[key][0]][data[key][1]] = symbols[key]\n",
    "        elif key == \"dragon\":\n",
    "            cave[data[key][0]][data[key][1]] = symbols[key]\n",
    "        elif key == \"sword\":\n",
    "            cave[data[key][0]][data[key][1]] = symbols[key]\n",
    "        elif key == \"walls\":\n",
    "            for wall in data[key]:\n",
    "                cave[wall[0]][wall[1]] = symbols[key]\n",
    "        elif key == \"treasure\":\n",
    "            for treasure in data[key]:\n",
    "                cave[treasure[0]][treasure[1]] = symbols[key]\n",
    "\n",
    "    return cave"
   ]
  },
  {
   "cell_type": "code",
   "execution_count": 256,
   "id": "07df0b62-be80-466b-ae80-17874b594185",
   "metadata": {
    "execution": {
     "iopub.execute_input": "2022-06-09T05:42:25.747540Z",
     "iopub.status.busy": "2022-06-09T05:42:25.747074Z",
     "iopub.status.idle": "2022-06-09T05:42:25.751427Z",
     "shell.execute_reply": "2022-06-09T05:42:25.750766Z",
     "shell.execute_reply.started": "2022-06-09T05:42:25.747520Z"
    },
    "tags": []
   },
   "outputs": [],
   "source": [
    "data = {'size': 4,\n",
    "        'entrance': (0, 0),\n",
    "        'exit': (2, 1),\n",
    "        'dragon': (0, 2),\n",
    "        'sword': (3, 3),\n",
    "        'treasure': [(1, 3)],\n",
    "        'walls': [(1, 1), (1, 2), (2, 2), (2, 3)]}\n",
    "\n",
    "data1 = {'size': 4,\n",
    "        'entrance': (0, 0),\n",
    "        'exit': (3, 4),\n",
    "        'dragon': (0, 2),\n",
    "        'sword': (3, 3),\n",
    "        'walls': [(1, 3)],\n",
    "        'treasure': [(1, 1), (1, 2), (2, 2), (2, 3)]}"
   ]
  },
  {
   "cell_type": "code",
   "execution_count": 257,
   "id": "59949033-5302-484f-850c-e64a4b5dd2bb",
   "metadata": {
    "execution": {
     "iopub.execute_input": "2022-06-09T05:42:26.014873Z",
     "iopub.status.busy": "2022-06-09T05:42:26.014363Z",
     "iopub.status.idle": "2022-06-09T05:42:26.019500Z",
     "shell.execute_reply": "2022-06-09T05:42:26.018810Z",
     "shell.execute_reply.started": "2022-06-09T05:42:26.014847Z"
    },
    "tags": []
   },
   "outputs": [
    {
     "data": {
      "text/plain": [
       "[['@', '.', 'W', '.'],\n",
       " ['.', '#', '#', '$'],\n",
       " ['.', 'X', '#', '#'],\n",
       " ['.', '.', '.', 't']]"
      ]
     },
     "execution_count": 257,
     "metadata": {},
     "output_type": "execute_result"
    }
   ],
   "source": [
    "build_cave(data)"
   ]
  },
  {
   "cell_type": "markdown",
   "id": "c298411a-5f19-481f-a009-589a43a0d70e",
   "metadata": {},
   "source": [
    "## Question 2: Checking whether a given path is a valid solution to the problem\n",
    "\n",
    "Your next task is to determine whether a given path is a valid solution to the problem. Note that, at this stage, you don't need to determine whether the path is shortest possible path, simply that it doesn't break any of the following rules:\n",
    "\n",
    "1. Falca begins at the entrance.\n",
    "2. Falca can only move one location at a time; eg, from (0, 0) to (1, 0).\n",
    "3. Falca can only move North (`up`), South (`down`), West (`left`) or East (`right`); ie, diagonal moves are not allowed.\n",
    "4. Falca can never move off the edge of the size-by-size grid constituting the cave.\n",
    "5. Falca can never move into a location containing a cave wall (`#`).\n",
    "6. Falca cannot move into a location containing a dragon (`W`) or any of the eight locations adjacent to a dragon (ie, including diagonally adjacent) unless carrying the sword (`t`), in which case it is considered equivalent to an empty location.\n",
    "7. Falca must end at the exit (`X`), after having collected all of the the treasures (`$`) in the cave. Until all of the treasures have been collected, the exit location is equivalent to an empty location (`.`); ie, Falca may freely move into and out of it.\n",
    "8. For Question 2, any item (treasure or sword) in the location currently occupied by Falca is considered to be collected, and no items are ever dropped.\n",
    "9. Note that if the sword is in one of the (up to) eight locations adjacent to a dragon, then it cannot be collected, as Falca may not move into a location adjacent to a dragon unless already carrying the sword!\n",
    "\n",
    "![Valid Path](../img/Figure_2.png)\n",
    "\n",
    "You need to implement a function check_path(data, path) that takes two arguments data, a dictionary of features in the cave, as per Question 1, and a list of moves path constituting a path through the dungeon. Your function should return True if the path is valid, or False if it is not valid. You may assume that the cave specification is valid (ie, build_cave(data) will not return None). However, it is possible that even a valid cave specification will have no valid path through it; for example, if the exit is completely separated from the entrance by walls. When there is no possible valid path through the cave, check_path will return False for any path."
   ]
  },
  {
   "cell_type": "code",
   "execution_count": 320,
   "id": "0fe98ac8-b109-4bb5-802e-b9307e2b5495",
   "metadata": {
    "execution": {
     "iopub.execute_input": "2022-06-09T06:02:05.354134Z",
     "iopub.status.busy": "2022-06-09T06:02:05.353727Z",
     "iopub.status.idle": "2022-06-09T06:02:05.361644Z",
     "shell.execute_reply": "2022-06-09T06:02:05.361043Z",
     "shell.execute_reply.started": "2022-06-09T06:02:05.354116Z"
    },
    "tags": []
   },
   "outputs": [],
   "source": []
  },
  {
   "cell_type": "code",
   "execution_count": 321,
   "id": "5da4f68a-25fe-4587-9f1c-0f61eabded78",
   "metadata": {
    "execution": {
     "iopub.execute_input": "2022-06-09T06:02:05.543595Z",
     "iopub.status.busy": "2022-06-09T06:02:05.543091Z",
     "iopub.status.idle": "2022-06-09T06:02:05.547766Z",
     "shell.execute_reply": "2022-06-09T06:02:05.547132Z",
     "shell.execute_reply.started": "2022-06-09T06:02:05.543572Z"
    },
    "tags": []
   },
   "outputs": [],
   "source": [
    "data = {'size': 4,'entrance': (0, 0), 'exit': (2, 1),\n",
    "        'dragon': (0, 2),'sword': (3, 3),'treasure': [(1, 3)],\n",
    "        'walls': [(1, 1), (1, 2), (2, 2), (2, 3)]}\n",
    "\n",
    "path = (['S'] * 3 + ['E'] * 3 + ['W'] * 3 + ['N'] * 3 + ['E'] * 3 + ['S'] + ['N'] + ['W'] * 3 + ['S', 'S', 'E'])"
   ]
  },
  {
   "cell_type": "code",
   "execution_count": null,
   "id": "a793dc29-a049-4e79-9a39-29c98f7a381a",
   "metadata": {
    "tags": []
   },
   "outputs": [],
   "source": [
    "check_path(data, path)"
   ]
  },
  {
   "cell_type": "code",
   "execution_count": 323,
   "id": "fe83a621-a8d6-4083-ac1d-0aab109b6414",
   "metadata": {
    "execution": {
     "iopub.execute_input": "2022-06-09T06:02:05.982377Z",
     "iopub.status.busy": "2022-06-09T06:02:05.981899Z",
     "iopub.status.idle": "2022-06-09T06:02:05.985843Z",
     "shell.execute_reply": "2022-06-09T06:02:05.985303Z",
     "shell.execute_reply.started": "2022-06-09T06:02:05.982353Z"
    },
    "tags": []
   },
   "outputs": [],
   "source": [
    "data = {'size': 5, 'entrance':(0, 0), 'exit':(1, 1), 'treasure':[(2, 3), (3, 3)], 'walls':[(3, 2), (1, 2)]}\n",
    "path = ['S', 'S', 'E']"
   ]
  },
  {
   "cell_type": "code",
   "execution_count": null,
   "id": "12645629-267d-46e3-aee4-9e2d47e939a7",
   "metadata": {
    "tags": []
   },
   "outputs": [],
   "source": [
    "check_path(data, path)"
   ]
  },
  {
   "cell_type": "code",
   "execution_count": 325,
   "id": "9e6247be-aa20-44f1-b292-ef86021c6cae",
   "metadata": {
    "execution": {
     "iopub.execute_input": "2022-06-09T06:02:07.411735Z",
     "iopub.status.busy": "2022-06-09T06:02:07.411079Z",
     "iopub.status.idle": "2022-06-09T06:02:07.415500Z",
     "shell.execute_reply": "2022-06-09T06:02:07.414828Z",
     "shell.execute_reply.started": "2022-06-09T06:02:07.411709Z"
    },
    "tags": []
   },
   "outputs": [],
   "source": [
    "data = {'size': 4,'entrance': (0, 0),'exit': (2, 1),'dragon': (0, 2),'sword': (3, 3),'treasure': [(1, 3)],'walls': [(1, 1), (1, 2), (2, 2), (2, 3)]}\n",
    "path = (['S'] * 4)"
   ]
  },
  {
   "cell_type": "code",
   "execution_count": null,
   "id": "f05a0ae5-1fc6-44ab-a756-0596525529f8",
   "metadata": {
    "tags": []
   },
   "outputs": [],
   "source": [
    "check_path(data, path)"
   ]
  },
  {
   "cell_type": "code",
   "execution_count": null,
   "id": "6e568141-398d-4101-955c-8d5e12b48128",
   "metadata": {},
   "outputs": [],
   "source": []
  },
  {
   "cell_type": "markdown",
   "id": "fef0de01-c39d-461e-b41b-0d58a3532286",
   "metadata": {
    "jp-MarkdownHeadingCollapsed": true,
    "tags": []
   },
   "source": [
    "## Question 3: Identifying the shortest path between two points in the cave\n",
    "\n",
    "Your next problem is to identify the length of the shortest valid path between two locations in a cave. The solution will be the minimum number of valid moves required to move form the start location to the end location. We will formulate this problem as a search problem and solve it using an algorithm known as breadth-first search.\n",
    "\n",
    "A search process is often visualised as a tree structure: we begin at the root node of our tree, corresponding to the the initial state of the problem, with Falca at the start location. We then add branches corresponding to each of the possible moves from the entrance. Each of these child nodes then corresponds to the new state of the problem after that move has been executed. We are trying to identify a path to the node corresponding to the goal of the problem, with Falca at the end location.\n",
    "\n",
    "For example, if our root node corresponds to the state of Falca just having entered the cave at (0, 0), there are only two possible moves that can be executed: South or East, resulting in new child nodes corresponding to the state of Falca having moved to (1, 0) or (0, 1) respectively. The next set of child nodes can then be created based on the valid moves available from that location.\n",
    "\n",
    "![Valid Path](../img/Figure_3a.png)\n",
    "\n",
    "At some point in the tree, we will create a node corresponding to the state of Falca having reached our end location. The sequence of moves (ie, branches in our tree) required to get from the initial root node to this goal node is our solution.\n",
    "\n",
    "An example breadth-first search is illustrated in the figures below.\n",
    "\n",
    "![Valid Path](../img/Figure_3b.png)\n",
    "\n",
    "![Valid Path](../img/Figure_3c.png)\n",
    "\n",
    "![Valid Path](../img/Figure_3d_new.png)\n",
    "\n",
    "![Valid Path](../img/Figure_3e_new.png)"
   ]
  },
  {
   "cell_type": "markdown",
   "id": "867806c6-307e-4341-b8c2-4ce92d02f804",
   "metadata": {},
   "source": [
    "Breadth-first search is a simple strategy for solving such search problems. Put simply, in breadth-first search, we first create all of the child nodes of our root node (start location), then all of the children of those nodes, and so on. We always explore all of the possible states that are n moves from the root node, before exploring states that are n + 1 moves from the root node. This guarantees that the first time we reach the goal node, no shorter path will exist. (If it did, we would have already found it.)\n",
    "\n",
    "A simple way of implementing breadth-first search is to add nodes to be explored to a queue. A queue is simply a list where we add elements to the back and remove elements from the front. Much the same as we join a queue to board a bus at the back of the queue, and board the bus once we reach the front of the queue.\n",
    "\n",
    "Pseudocode for breadth-first search is provided below:\n",
    "\n",
    "```\n",
    "node = start location\n",
    "unexplored = a queue containing node as the only element\n",
    "explored = an empty set\n",
    "\n",
    "repeat:\n",
    "    if unexplored is empty: \n",
    "        return failure (there is no path)\n",
    "    node = node at front of unexplored\n",
    "    if node == end location: \n",
    "        return solution\n",
    "    add node to explored\n",
    "    for each possible move from node:\n",
    "        child = result of executing move\n",
    "        if child is not in either unexplored or explored:\n",
    "            add child to back of unexplored \n",
    "```\n",
    "\n",
    "This pseudocode can be to solve the question."
   ]
  },
  {
   "cell_type": "markdown",
   "id": "81feebd2-fcb9-4c62-8be3-a9ce560914eb",
   "metadata": {},
   "source": [
    "Write a function shortest_path(data, start, end, has_sword) that determines the length of the shortest valid path between two locations in a cave. The function takes four arguments data a dictionary of features in the cave, as per question 1; start a start location (as a tuple); end an end location (as a tuple); and has_sword a boolean indicating whether Falca currently holds the sword (as this may affect the choice of path). Your function should return the length of the shortest path between start and end.\n",
    "\n",
    "For simplicity, you should assume that the value of has_sword does not change while the shortest path is determined. That is, Falca cannot pick up the sword; If shortest_path is called with the argument False for has_sword, it will remain False, even if Falca happens to enter a location containing the sword."
   ]
  },
  {
   "cell_type": "code",
   "execution_count": null,
   "id": "7b2f87b4-8f51-424e-9c7a-6dc6b03d4207",
   "metadata": {},
   "outputs": [],
   "source": []
  },
  {
   "cell_type": "code",
   "execution_count": null,
   "id": "eefc534a-732d-4aed-8f6b-1af5a67f7abe",
   "metadata": {},
   "outputs": [],
   "source": []
  },
  {
   "cell_type": "code",
   "execution_count": null,
   "id": "642901af-0cfe-45cd-acb5-bd629d890ef4",
   "metadata": {},
   "outputs": [],
   "source": []
  },
  {
   "cell_type": "code",
   "execution_count": null,
   "id": "161189a3-ffab-40c7-8683-ea3a1c3d0615",
   "metadata": {},
   "outputs": [],
   "source": []
  },
  {
   "cell_type": "code",
   "execution_count": null,
   "id": "511c0c3a-bce1-41c8-9a3d-bc05ed2cb150",
   "metadata": {},
   "outputs": [],
   "source": []
  },
  {
   "cell_type": "markdown",
   "id": "8ab04438-5230-4b12-8a90-50d61eb0e513",
   "metadata": {},
   "source": [
    "## Question 4: Identifying the optimal (best) path that solves the whole problem\n",
    "\n",
    "Your final task is to write a function that determines the length of the optimal path from entrance to exit, collecting all of the treasure.\n",
    "\n",
    "In Question 3, we used breadth-first search to identify the shortest path between two locations in a cave. This provides us with the means to quantify the cost of travelling between any pair of locations. In this question, we will increase the scope of the problem to search for the optimal order in which to collect each of the treasures and then exit from a cave, optionally also collecting the sword, but only if that will reduce the overall path length.\n",
    "\n",
    "To solve this problem, we can now consider our moves to be from one location of interest to another; e.g., from the entrance to the first treasure, or from the sword to the exit, and so on. Each of these movements can be associated with a cost, defined as the length of the path from the start location to the end location, as calculated by the shortest_path function from Question 3. Note that, as the definition of shortest_path specified that the sword could not be collected during a path between a start and end location, the sword will only be considered collected if it is the end location of a call to shortest_path.\n",
    "\n",
    "We can solve this problem using a variant of breadth-first search known as uniform cost search. Breadth-first search finds the optimal solution because the cost of executing each move was equal. When this is not true, we need to keep track of not only the number of moves we have made, but also the cumulative cost of making those moves. Rather than exploring new nodes that are the fewest number of moves from the root node, we now want to explore new nodes that are the lowest cost (path length) from the root node.\n",
    "\n",
    "Thus, rather than storing unexplored nodes as a simple queue, we will store unexplored nodes as a priority queue in which we order unexplored nodes according to the cost of reaching them. At each decision point, we choose to explore the next cheapest node; that is, the one with the lowest cost, or the shortest path length from the root node.\n",
    "\n",
    "Pseudocode for a uniform-cost search is provided below:\n",
    "\n",
    "```\n",
    "node = start state\n",
    "unexplored = a priority queue containing node as the only element\n",
    "\n",
    "repeat:\n",
    "    if unexplored is empty: \n",
    "        return failure (there is no valid path)\n",
    "    node = node in unexplored with the lowest cost\n",
    "    if node == end state:\n",
    "        return solution\n",
    "    for each valid move from node:\n",
    "        child = result of executing move\n",
    "        if child is not in unexplored:\n",
    "            add child to unexplored, together with its cost\n",
    "        else if child is in unexplored and the new cost is less than \n",
    "                    current cost:\n",
    "            replace the current cost with new cost\n",
    "```\n",
    "\n",
    "You need to implement a function optimal_path(data) that takes a single argument data, a dictionary of features in the cave, as per Question 1. Your function should return the length of the shortest path that enables Falca to collect all of the treasures and exit from the dungeon."
   ]
  },
  {
   "cell_type": "code",
   "execution_count": null,
   "id": "4c831e0c-fcc8-4e46-8350-56dcbac9cf0c",
   "metadata": {},
   "outputs": [],
   "source": []
  }
 ],
 "metadata": {
  "kernelspec": {
   "display_name": "3.10.4",
   "language": "python",
   "name": "3.10.4"
  },
  "language_info": {
   "codemirror_mode": {
    "name": "ipython",
    "version": 3
   },
   "file_extension": ".py",
   "mimetype": "text/x-python",
   "name": "python",
   "nbconvert_exporter": "python",
   "pygments_lexer": "ipython3",
   "version": "3.10.4"
  }
 },
 "nbformat": 4,
 "nbformat_minor": 5
}
