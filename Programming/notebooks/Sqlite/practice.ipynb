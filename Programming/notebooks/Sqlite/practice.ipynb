{
 "cells": [
  {
   "cell_type": "markdown",
   "id": "1d081441-e06b-4138-9d9d-9d74367115a4",
   "metadata": {},
   "source": [
    "# SQLite Database Practice "
   ]
  },
  {
   "cell_type": "code",
   "execution_count": 80,
   "id": "7a95918b-8d0c-47f0-a46f-31f038655c2e",
   "metadata": {},
   "outputs": [],
   "source": [
    "# import modules\n",
    "import pandas as pd\n",
    "import sqlite3 as db"
   ]
  },
  {
   "cell_type": "code",
   "execution_count": 81,
   "id": "21188f67-406d-47d2-907a-017f8211a77f",
   "metadata": {},
   "outputs": [],
   "source": [
    "# connect the database\n",
    "conn = db.connect('prac_customer.db')\n",
    "c = conn.cursor()"
   ]
  },
  {
   "cell_type": "code",
   "execution_count": 104,
   "id": "db34fa0b-09dc-4dc8-a554-8bf01b57c5fe",
   "metadata": {},
   "outputs": [
    {
     "data": {
      "text/plain": [
       "[('table',\n",
       "  'customers',\n",
       "  'customers',\n",
       "  4,\n",
       "  'CREATE TABLE customers (\\n    first_name CHAR(20) PRIMARY KEY, \\n    last_name CHAR(20) NOT NULL,\\n    email CHAR(25) NOT NULL)')]"
      ]
     },
     "execution_count": 104,
     "metadata": {},
     "output_type": "execute_result"
    }
   ],
   "source": [
    "c.execute(\"\"\"\n",
    "SELECT *\n",
    "FROM sqlite_schema\n",
    "WHERE type = 'table' AND name NOT LIKE 'sqlite_%'\n",
    "\"\"\").fetchall()"
   ]
  },
  {
   "cell_type": "code",
   "execution_count": 82,
   "id": "8690effc-fac8-479d-ab18-ae1c805607d5",
   "metadata": {},
   "outputs": [
    {
     "data": {
      "text/plain": [
       "<sqlite3.Cursor at 0x264a824a7c0>"
      ]
     },
     "execution_count": 82,
     "metadata": {},
     "output_type": "execute_result"
    }
   ],
   "source": [
    "c.execute(\"\"\"\n",
    "CREATE TABLE IF NOT EXISTS customers (\n",
    "    first_name CHAR(20) PRIMARY KEY, \n",
    "    last_name CHAR(20) NOT NULL,\n",
    "    email CHAR(25) NOT NULL)\n",
    "\"\"\")"
   ]
  },
  {
   "cell_type": "code",
   "execution_count": 83,
   "id": "05091964-6904-4fef-8219-06a8b7a5b66d",
   "metadata": {},
   "outputs": [
    {
     "data": {
      "text/plain": [
       "<sqlite3.Cursor at 0x264a824a7c0>"
      ]
     },
     "execution_count": 83,
     "metadata": {},
     "output_type": "execute_result"
    }
   ],
   "source": [
    "# insert multiple records\n",
    "customers = [('Wes', 'Brown', 'wes@brown.com'), \n",
    "             ('Steph', 'Kuewa', 'steph@kuewa.com'),\n",
    "             ('Dan', 'Pas', 'dan@pas.com')]\n",
    "\n",
    "c.executemany(\"\"\"INSERT INTO customers\n",
    "VALUES (?, ?, ?)\n",
    "\"\"\", customers)"
   ]
  },
  {
   "cell_type": "code",
   "execution_count": 84,
   "id": "548d7fef-facf-4199-b3c8-19a55027dd19",
   "metadata": {},
   "outputs": [],
   "source": [
    "# define function to show all result\n",
    "def show_all(db):\n",
    "    # query the database\n",
    "    print(pd.read_sql_query(\"\"\"\n",
    "    SELECT rowid, *\n",
    "    FROM customers\n",
    "    \"\"\", db))"
   ]
  },
  {
   "cell_type": "code",
   "execution_count": 85,
   "id": "78702f23-372e-486f-9807-9a271291bcd2",
   "metadata": {},
   "outputs": [
    {
     "name": "stdout",
     "output_type": "stream",
     "text": [
      "   rowid first_name last_name            email\n",
      "0      1        Wes     Brown    wes@brown.com\n",
      "1      2      Steph     Kuewa  steph@kuewa.com\n",
      "2      3        Dan       Pas      dan@pas.com\n"
     ]
    }
   ],
   "source": [
    "show_all(conn)"
   ]
  },
  {
   "cell_type": "code",
   "execution_count": 86,
   "id": "e867f144-7800-403a-b785-d0ea0e33779a",
   "metadata": {},
   "outputs": [],
   "source": [
    "# define function to add one record\n",
    "def add_one(first_name, last_name, email, db):\n",
    "    cursor = db.cursor()\n",
    "    cursor.execute(\"\"\"\n",
    "    INSERT INTO customers VALUES (?, ?, ?)\n",
    "    \"\"\", (first_name, last_name, email))"
   ]
  },
  {
   "cell_type": "code",
   "execution_count": 87,
   "id": "cbc052b6-cafd-4324-b4b1-ad3bebc59ff6",
   "metadata": {},
   "outputs": [
    {
     "name": "stdout",
     "output_type": "stream",
     "text": [
      "   rowid first_name last_name            email\n",
      "0      1        Wes     Brown    wes@brown.com\n",
      "1      2      Steph     Kuewa  steph@kuewa.com\n",
      "2      3        Dan       Pas      dan@pas.com\n",
      "3      4        rin     huang    rin@huang.com\n"
     ]
    }
   ],
   "source": [
    "add_one('rin', 'huang', 'rin@huang.com', conn)\n",
    "show_all(conn)"
   ]
  },
  {
   "cell_type": "code",
   "execution_count": 88,
   "id": "f327475f-a9b2-4bae-a118-a56cef631c95",
   "metadata": {},
   "outputs": [],
   "source": [
    "# define function to delete one record\n",
    "def delete_one(id, db):\n",
    "    cursor = db.cursor()\n",
    "    cursor.execute(\"\"\"\n",
    "    DELETE FROM customers\n",
    "    WHERE rowid = (?)\n",
    "    \"\"\", id)"
   ]
  },
  {
   "cell_type": "code",
   "execution_count": 89,
   "id": "9fb81d60-7993-4178-b7be-43cd988b2580",
   "metadata": {},
   "outputs": [
    {
     "name": "stdout",
     "output_type": "stream",
     "text": [
      "   rowid first_name last_name            email\n",
      "0      1        Wes     Brown    wes@brown.com\n",
      "1      2      Steph     Kuewa  steph@kuewa.com\n",
      "2      3        Dan       Pas      dan@pas.com\n",
      "3      4        rin     huang    rin@huang.com\n"
     ]
    }
   ],
   "source": [
    "delete_one('8', conn)\n",
    "show_all(conn)"
   ]
  },
  {
   "cell_type": "code",
   "execution_count": 90,
   "id": "136c58e2-099f-463f-894f-0c7d859e10e4",
   "metadata": {},
   "outputs": [],
   "source": [
    "# define function to add many records\n",
    "def add_many(lst, db):\n",
    "    c = db.cursor()\n",
    "    c.executemany(\"\"\"\n",
    "    INSERT INTO customers VALUES (?, ?, ?)\n",
    "    \"\"\", lst)"
   ]
  },
  {
   "cell_type": "code",
   "execution_count": 91,
   "id": "0b231fb3-0e67-46b8-b181-8740c29d0bf8",
   "metadata": {},
   "outputs": [
    {
     "name": "stdout",
     "output_type": "stream",
     "text": [
      "   rowid first_name   last_name                  email\n",
      "0      1        Wes       Brown          wes@brown.com\n",
      "1      2      Steph       Kuewa        steph@kuewa.com\n",
      "2      3        Dan         Pas            dan@pas.com\n",
      "3      4        rin       huang          rin@huang.com\n",
      "4      5     Brenda  Smitherton  brenda@smitherton.com\n",
      "5      6     Joshua    Raintree      josh@raintree.com\n"
     ]
    }
   ],
   "source": [
    "staff = [('Brenda', 'Smitherton', 'brenda@smitherton.com'),\n",
    "         ( 'Joshua', 'Raintree', 'josh@raintree.com')]\n",
    "\n",
    "add_many(staff, conn)\n",
    "show_all(conn)"
   ]
  },
  {
   "cell_type": "code",
   "execution_count": 92,
   "id": "144089b3-ab93-4729-97cb-ce435b263786",
   "metadata": {},
   "outputs": [],
   "source": [
    "# define a fucntion to lookup someone's \n",
    "# information based on email address\n",
    "def email_lookup(email, db):\n",
    "    # return db.cursor().execute(\"SELECT * FROM customers WHERE email = (?)\", (email,)).fetchall()\n",
    "    return pd.read_sql_query(\"SELECT * FROM customers WHERE email = (?)\", db, params=[email])"
   ]
  },
  {
   "cell_type": "code",
   "execution_count": 93,
   "id": "fa3ef199-7e7d-4695-94bc-e4186c5966d4",
   "metadata": {},
   "outputs": [
    {
     "data": {
      "text/html": [
       "<div>\n",
       "<style scoped>\n",
       "    .dataframe tbody tr th:only-of-type {\n",
       "        vertical-align: middle;\n",
       "    }\n",
       "\n",
       "    .dataframe tbody tr th {\n",
       "        vertical-align: top;\n",
       "    }\n",
       "\n",
       "    .dataframe thead th {\n",
       "        text-align: right;\n",
       "    }\n",
       "</style>\n",
       "<table border=\"1\" class=\"dataframe\">\n",
       "  <thead>\n",
       "    <tr style=\"text-align: right;\">\n",
       "      <th></th>\n",
       "      <th>first_name</th>\n",
       "      <th>last_name</th>\n",
       "      <th>email</th>\n",
       "    </tr>\n",
       "  </thead>\n",
       "  <tbody>\n",
       "    <tr>\n",
       "      <th>0</th>\n",
       "      <td>Dan</td>\n",
       "      <td>Pas</td>\n",
       "      <td>dan@pas.com</td>\n",
       "    </tr>\n",
       "  </tbody>\n",
       "</table>\n",
       "</div>"
      ],
      "text/plain": [
       "  first_name last_name        email\n",
       "0        Dan       Pas  dan@pas.com"
      ]
     },
     "execution_count": 93,
     "metadata": {},
     "output_type": "execute_result"
    }
   ],
   "source": [
    "email_lookup(\"dan@pas.com\", conn)"
   ]
  },
  {
   "cell_type": "code",
   "execution_count": 94,
   "id": "8d30b475-7c92-4456-b911-c0513599a509",
   "metadata": {},
   "outputs": [
    {
     "name": "stdout",
     "output_type": "stream",
     "text": [
      "   rowid first_name   last_name                  email\n",
      "0      1        Wes       Brown          wes@brown.com\n",
      "1      2      Steph       Kuewa        steph@kuewa.com\n",
      "2      3        Dan         Pas            dan@pas.com\n",
      "3      4        rin       huang          rin@huang.com\n",
      "4      5     Brenda  Smitherton  brenda@smitherton.com\n",
      "5      6     Joshua    Raintree      josh@raintree.com\n"
     ]
    }
   ],
   "source": [
    "show_all(conn)"
   ]
  },
  {
   "cell_type": "code",
   "execution_count": 105,
   "id": "5460769c-c038-4cd3-987c-81aa814ba075",
   "metadata": {},
   "outputs": [],
   "source": [
    "conn.commit()\n",
    "conn.close()"
   ]
  }
 ],
 "metadata": {
  "kernelspec": {
   "display_name": "Python 3 (ipykernel)",
   "language": "python",
   "name": "python3"
  },
  "language_info": {
   "codemirror_mode": {
    "name": "ipython",
    "version": 3
   },
   "file_extension": ".py",
   "mimetype": "text/x-python",
   "name": "python",
   "nbconvert_exporter": "python",
   "pygments_lexer": "ipython3",
   "version": "3.10.4"
  }
 },
 "nbformat": 4,
 "nbformat_minor": 5
}
