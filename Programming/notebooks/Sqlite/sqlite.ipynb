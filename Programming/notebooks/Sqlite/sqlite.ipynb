{
 "cells": [
  {
   "cell_type": "code",
   "execution_count": 43,
   "id": "198c708f-81e6-4303-8ad0-ff63ff51eec4",
   "metadata": {},
   "outputs": [],
   "source": [
    "# import sqlite library\n",
    "import sqlite3\n",
    "import pandas as pd"
   ]
  },
  {
   "cell_type": "code",
   "execution_count": 18,
   "id": "9fa9b8dc-3817-4b9f-8536-77cc86a3faa8",
   "metadata": {},
   "outputs": [],
   "source": [
    "# create a database connection in a memory\n",
    "conn = sqlite3.connect(':memory:')"
   ]
  },
  {
   "cell_type": "code",
   "execution_count": 19,
   "id": "64dd2f15-5895-4d5d-ba50-a54fff00284a",
   "metadata": {},
   "outputs": [],
   "source": [
    "# connect to a database\n",
    "conn = sqlite3.connect('customer.db') # if database not exist, sqlite will create a new database"
   ]
  },
  {
   "cell_type": "code",
   "execution_count": 20,
   "id": "ff76b162-fefa-4af5-9cb8-266a11ae2efa",
   "metadata": {},
   "outputs": [],
   "source": [
    "# create a cursor for the connection\n",
    "c = conn.cursor()"
   ]
  },
  {
   "cell_type": "markdown",
   "id": "67e92fd6-d06f-4085-b88d-51d69c2e491e",
   "metadata": {},
   "source": [
    "DATATYPE is a type of data, you need to define the type of data in each table field.\n",
    "In sqlite, there are some built-in datatypes.\n",
    "- NULL\n",
    "- INTERGER\n",
    "- REAL\n",
    "- TEXT\n",
    "- BLOB\n",
    "- CHAR"
   ]
  },
  {
   "cell_type": "code",
   "execution_count": 15,
   "id": "fe06f31c-3a27-4c25-9964-014431374edc",
   "metadata": {},
   "outputs": [
    {
     "data": {
      "text/plain": [
       "<sqlite3.Cursor at 0x1c29f8bb5c0>"
      ]
     },
     "execution_count": 15,
     "metadata": {},
     "output_type": "execute_result"
    }
   ],
   "source": [
    "# create a table, same syntax with sql\n",
    "# NOTE: sqlite3 is case sensitive\n",
    "c.execute(\"\"\"CREATE TABLE customers (\n",
    "    first_name TEXT,\n",
    "    last_name TEXT,\n",
    "    email TEXT\n",
    ")\"\"\")"
   ]
  },
  {
   "cell_type": "code",
   "execution_count": 72,
   "id": "2d7beb4d-4a94-45d0-a087-4342387d3bab",
   "metadata": {},
   "outputs": [
    {
     "data": {
      "text/plain": [
       "<sqlite3.Cursor at 0x1c29f96d8c0>"
      ]
     },
     "execution_count": 72,
     "metadata": {},
     "output_type": "execute_result"
    }
   ],
   "source": [
    "c.execute(\"\"\"\n",
    "CREATE TABLE IF NOT EXISTS customer (\n",
    "    first_name CHAR(20) PRIMARY KEY, \n",
    "    last_name CHAR(20) NOT NULL,\n",
    "    email CHAR(25) NOT NULL)\n",
    "\"\"\")"
   ]
  },
  {
   "cell_type": "code",
   "execution_count": 73,
   "id": "6d0f744d-6d27-4ca6-b099-8fd344dc34ef",
   "metadata": {},
   "outputs": [
    {
     "data": {
      "text/plain": [
       "<sqlite3.Cursor at 0x1c29f96d8c0>"
      ]
     },
     "execution_count": 73,
     "metadata": {},
     "output_type": "execute_result"
    }
   ],
   "source": [
    "# drop a table\n",
    "c.execute(\"\"\"DROP TABLE customer\"\"\")"
   ]
  },
  {
   "cell_type": "code",
   "execution_count": 21,
   "id": "b2d0dc49-c6fa-4461-ade5-6aa6730f656a",
   "metadata": {},
   "outputs": [
    {
     "data": {
      "text/plain": [
       "<sqlite3.Cursor at 0x1c29f96d8c0>"
      ]
     },
     "execution_count": 21,
     "metadata": {},
     "output_type": "execute_result"
    }
   ],
   "source": [
    "# insert a single record\n",
    "c.execute(\"\"\"INSERT INTO customers \n",
    "             VALUES ('John', 'Elder', 'john@codemy.com')\n",
    "\"\"\")"
   ]
  },
  {
   "cell_type": "code",
   "execution_count": 23,
   "id": "d7dee53c-9e18-4b89-a8bd-e9b8c19409fa",
   "metadata": {},
   "outputs": [
    {
     "data": {
      "text/plain": [
       "<sqlite3.Cursor at 0x1c29f96d8c0>"
      ]
     },
     "execution_count": 23,
     "metadata": {},
     "output_type": "execute_result"
    }
   ],
   "source": [
    "# insert multiple records\n",
    "customers = [('Wes', 'Brown', 'wes@brown.com'), \n",
    "             ('Steph', 'Kuewa', 'steph@kuewa.com'),\n",
    "             ('Dan', 'Pas', 'dan@pas.com')]\n",
    "\n",
    "c.executemany(\"\"\"INSERT INTO customers\n",
    "VALUES (?, ?, ?)\n",
    "\"\"\", customers)"
   ]
  },
  {
   "cell_type": "code",
   "execution_count": 33,
   "id": "e8a1f1e6-b85f-4257-af65-4501171b05dd",
   "metadata": {},
   "outputs": [
    {
     "name": "stdout",
     "output_type": "stream",
     "text": [
      "('John', 'Elder', 'john@codemy.com')\n"
     ]
    }
   ],
   "source": [
    "# query the database\n",
    "c.execute(\"\"\"\n",
    "SELECT * \n",
    "FROM customers\n",
    "\"\"\")\n",
    "\n",
    "# lookup one result\n",
    "one_result = c.fetchone()\n",
    "print(one_result)"
   ]
  },
  {
   "cell_type": "code",
   "execution_count": 38,
   "id": "93023920-ea2d-4f4b-bbd4-604d0debee79",
   "metadata": {},
   "outputs": [
    {
     "name": "stdout",
     "output_type": "stream",
     "text": [
      "[('John', 'Elder', 'john@codemy.com'), ('Wes', 'Brown', 'wes@brown.com'), ('Steph', 'Kuewa', 'steph@kuewa.com')]\n"
     ]
    }
   ],
   "source": [
    "# query the database\n",
    "c.execute(\"\"\"\n",
    "SELECT * \n",
    "FROM customers\n",
    "\"\"\")\n",
    "\n",
    "# lookup many result\n",
    "many_result = c.fetchmany(3)\n",
    "print(many_result)"
   ]
  },
  {
   "cell_type": "code",
   "execution_count": 45,
   "id": "1c252322-1d5c-4b8b-810d-ba2ca47b95ed",
   "metadata": {},
   "outputs": [
    {
     "data": {
      "text/html": [
       "<div>\n",
       "<style scoped>\n",
       "    .dataframe tbody tr th:only-of-type {\n",
       "        vertical-align: middle;\n",
       "    }\n",
       "\n",
       "    .dataframe tbody tr th {\n",
       "        vertical-align: top;\n",
       "    }\n",
       "\n",
       "    .dataframe thead th {\n",
       "        text-align: right;\n",
       "    }\n",
       "</style>\n",
       "<table border=\"1\" class=\"dataframe\">\n",
       "  <thead>\n",
       "    <tr style=\"text-align: right;\">\n",
       "      <th></th>\n",
       "      <th>first_name</th>\n",
       "      <th>last_name</th>\n",
       "      <th>email</th>\n",
       "    </tr>\n",
       "  </thead>\n",
       "  <tbody>\n",
       "    <tr>\n",
       "      <th>0</th>\n",
       "      <td>John</td>\n",
       "      <td>Elder</td>\n",
       "      <td>john@codemy.com</td>\n",
       "    </tr>\n",
       "    <tr>\n",
       "      <th>1</th>\n",
       "      <td>Wes</td>\n",
       "      <td>Brown</td>\n",
       "      <td>wes@brown.com</td>\n",
       "    </tr>\n",
       "    <tr>\n",
       "      <th>2</th>\n",
       "      <td>Steph</td>\n",
       "      <td>Kuewa</td>\n",
       "      <td>steph@kuewa.com</td>\n",
       "    </tr>\n",
       "    <tr>\n",
       "      <th>3</th>\n",
       "      <td>Dan</td>\n",
       "      <td>Pas</td>\n",
       "      <td>dan@pas.com</td>\n",
       "    </tr>\n",
       "  </tbody>\n",
       "</table>\n",
       "</div>"
      ],
      "text/plain": [
       "  first_name last_name            email\n",
       "0       John     Elder  john@codemy.com\n",
       "1        Wes     Brown    wes@brown.com\n",
       "2      Steph     Kuewa  steph@kuewa.com\n",
       "3        Dan       Pas      dan@pas.com"
      ]
     },
     "execution_count": 45,
     "metadata": {},
     "output_type": "execute_result"
    }
   ],
   "source": [
    "# query the database\n",
    "c.execute(\"\"\"\n",
    "SELECT * \n",
    "FROM customers\n",
    "\"\"\")\n",
    "\n",
    "# lookup all result\n",
    "items = c.fetchall()\n",
    "pd.DataFrame(items, columns=['first_name', 'last_name', 'email'])"
   ]
  },
  {
   "cell_type": "code",
   "execution_count": 47,
   "id": "4371e415-d3ae-4b1a-b784-3de7d55c2642",
   "metadata": {},
   "outputs": [
    {
     "data": {
      "text/html": [
       "<div>\n",
       "<style scoped>\n",
       "    .dataframe tbody tr th:only-of-type {\n",
       "        vertical-align: middle;\n",
       "    }\n",
       "\n",
       "    .dataframe tbody tr th {\n",
       "        vertical-align: top;\n",
       "    }\n",
       "\n",
       "    .dataframe thead th {\n",
       "        text-align: right;\n",
       "    }\n",
       "</style>\n",
       "<table border=\"1\" class=\"dataframe\">\n",
       "  <thead>\n",
       "    <tr style=\"text-align: right;\">\n",
       "      <th></th>\n",
       "      <th>row_id</th>\n",
       "      <th>first_name</th>\n",
       "      <th>last_name</th>\n",
       "      <th>email</th>\n",
       "    </tr>\n",
       "  </thead>\n",
       "  <tbody>\n",
       "    <tr>\n",
       "      <th>0</th>\n",
       "      <td>1</td>\n",
       "      <td>John</td>\n",
       "      <td>Elder</td>\n",
       "      <td>john@codemy.com</td>\n",
       "    </tr>\n",
       "    <tr>\n",
       "      <th>1</th>\n",
       "      <td>2</td>\n",
       "      <td>Wes</td>\n",
       "      <td>Brown</td>\n",
       "      <td>wes@brown.com</td>\n",
       "    </tr>\n",
       "    <tr>\n",
       "      <th>2</th>\n",
       "      <td>3</td>\n",
       "      <td>Steph</td>\n",
       "      <td>Kuewa</td>\n",
       "      <td>steph@kuewa.com</td>\n",
       "    </tr>\n",
       "    <tr>\n",
       "      <th>3</th>\n",
       "      <td>4</td>\n",
       "      <td>Dan</td>\n",
       "      <td>Pas</td>\n",
       "      <td>dan@pas.com</td>\n",
       "    </tr>\n",
       "  </tbody>\n",
       "</table>\n",
       "</div>"
      ],
      "text/plain": [
       "   row_id first_name last_name            email\n",
       "0       1       John     Elder  john@codemy.com\n",
       "1       2        Wes     Brown    wes@brown.com\n",
       "2       3      Steph     Kuewa  steph@kuewa.com\n",
       "3       4        Dan       Pas      dan@pas.com"
      ]
     },
     "execution_count": 47,
     "metadata": {},
     "output_type": "execute_result"
    }
   ],
   "source": [
    "# query the database\n",
    "c.execute(\"\"\"\n",
    "SELECT rowid, * \n",
    "FROM customers\n",
    "\"\"\")\n",
    "\n",
    "# lookup all result\n",
    "items = c.fetchall()\n",
    "pd.DataFrame(items, columns=['row_id', 'first_name', 'last_name', 'email'])"
   ]
  },
  {
   "cell_type": "code",
   "execution_count": 48,
   "id": "0fe139d2-f5a7-48dc-aec5-ed5d031e2460",
   "metadata": {},
   "outputs": [
    {
     "data": {
      "text/html": [
       "<div>\n",
       "<style scoped>\n",
       "    .dataframe tbody tr th:only-of-type {\n",
       "        vertical-align: middle;\n",
       "    }\n",
       "\n",
       "    .dataframe tbody tr th {\n",
       "        vertical-align: top;\n",
       "    }\n",
       "\n",
       "    .dataframe thead th {\n",
       "        text-align: right;\n",
       "    }\n",
       "</style>\n",
       "<table border=\"1\" class=\"dataframe\">\n",
       "  <thead>\n",
       "    <tr style=\"text-align: right;\">\n",
       "      <th></th>\n",
       "      <th>first_name</th>\n",
       "      <th>last_name</th>\n",
       "      <th>email</th>\n",
       "    </tr>\n",
       "  </thead>\n",
       "  <tbody>\n",
       "    <tr>\n",
       "      <th>0</th>\n",
       "      <td>John</td>\n",
       "      <td>Elder</td>\n",
       "      <td>john@codemy.com</td>\n",
       "    </tr>\n",
       "  </tbody>\n",
       "</table>\n",
       "</div>"
      ],
      "text/plain": [
       "  first_name last_name            email\n",
       "0       John     Elder  john@codemy.com"
      ]
     },
     "execution_count": 48,
     "metadata": {},
     "output_type": "execute_result"
    }
   ],
   "source": [
    "# query the database\n",
    "c.execute(\"\"\"\n",
    "SELECT * \n",
    "FROM customers\n",
    "WHERE last_name = 'Elder'\n",
    "\"\"\")\n",
    "\n",
    "# lookup all result\n",
    "items = c.fetchall()\n",
    "pd.DataFrame(items, columns=['first_name', 'last_name', 'email'])"
   ]
  },
  {
   "cell_type": "code",
   "execution_count": 49,
   "id": "d9a19d39-0ff4-4142-bc48-865531bf3f7d",
   "metadata": {},
   "outputs": [
    {
     "data": {
      "text/html": [
       "<div>\n",
       "<style scoped>\n",
       "    .dataframe tbody tr th:only-of-type {\n",
       "        vertical-align: middle;\n",
       "    }\n",
       "\n",
       "    .dataframe tbody tr th {\n",
       "        vertical-align: top;\n",
       "    }\n",
       "\n",
       "    .dataframe thead th {\n",
       "        text-align: right;\n",
       "    }\n",
       "</style>\n",
       "<table border=\"1\" class=\"dataframe\">\n",
       "  <thead>\n",
       "    <tr style=\"text-align: right;\">\n",
       "      <th></th>\n",
       "      <th>first_name</th>\n",
       "      <th>last_name</th>\n",
       "      <th>email</th>\n",
       "    </tr>\n",
       "  </thead>\n",
       "  <tbody>\n",
       "    <tr>\n",
       "      <th>0</th>\n",
       "      <td>Wes</td>\n",
       "      <td>Brown</td>\n",
       "      <td>wes@brown.com</td>\n",
       "    </tr>\n",
       "  </tbody>\n",
       "</table>\n",
       "</div>"
      ],
      "text/plain": [
       "  first_name last_name          email\n",
       "0        Wes     Brown  wes@brown.com"
      ]
     },
     "execution_count": 49,
     "metadata": {},
     "output_type": "execute_result"
    }
   ],
   "source": [
    "# query the database\n",
    "c.execute(\"\"\"\n",
    "SELECT * \n",
    "FROM customers\n",
    "WHERE last_name LIKE 'Br%'\n",
    "\"\"\")\n",
    "\n",
    "# lookup all result\n",
    "items = c.fetchall()\n",
    "pd.DataFrame(items, columns=['first_name', 'last_name', 'email'])"
   ]
  },
  {
   "cell_type": "code",
   "execution_count": 53,
   "id": "dcccf3cb-14f5-4d38-9986-536871f98811",
   "metadata": {},
   "outputs": [
    {
     "data": {
      "text/html": [
       "<div>\n",
       "<style scoped>\n",
       "    .dataframe tbody tr th:only-of-type {\n",
       "        vertical-align: middle;\n",
       "    }\n",
       "\n",
       "    .dataframe tbody tr th {\n",
       "        vertical-align: top;\n",
       "    }\n",
       "\n",
       "    .dataframe thead th {\n",
       "        text-align: right;\n",
       "    }\n",
       "</style>\n",
       "<table border=\"1\" class=\"dataframe\">\n",
       "  <thead>\n",
       "    <tr style=\"text-align: right;\">\n",
       "      <th></th>\n",
       "      <th>first_name</th>\n",
       "      <th>last_name</th>\n",
       "      <th>email</th>\n",
       "    </tr>\n",
       "  </thead>\n",
       "  <tbody>\n",
       "    <tr>\n",
       "      <th>0</th>\n",
       "      <td>John</td>\n",
       "      <td>Elder</td>\n",
       "      <td>john@codemy.com</td>\n",
       "    </tr>\n",
       "  </tbody>\n",
       "</table>\n",
       "</div>"
      ],
      "text/plain": [
       "  first_name last_name            email\n",
       "0       John     Elder  john@codemy.com"
      ]
     },
     "execution_count": 53,
     "metadata": {},
     "output_type": "execute_result"
    }
   ],
   "source": [
    "# query the database\n",
    "c.execute(\"\"\"\n",
    "SELECT * \n",
    "FROM customers\n",
    "WHERE email LIKE '%codemy.com'\n",
    "\"\"\")\n",
    "\n",
    "# lookup all result\n",
    "items = c.fetchall()\n",
    "pd.DataFrame(items, columns=['first_name', 'last_name', 'email'])"
   ]
  },
  {
   "cell_type": "code",
   "execution_count": 55,
   "id": "95e0d8e3-2f25-4452-adb7-8152fccdf33a",
   "metadata": {},
   "outputs": [
    {
     "data": {
      "text/plain": [
       "<sqlite3.Cursor at 0x1c29f96d8c0>"
      ]
     },
     "execution_count": 55,
     "metadata": {},
     "output_type": "execute_result"
    }
   ],
   "source": [
    "# update some records\n",
    "c.execute(\"\"\"\n",
    "UPDATE customers \n",
    "SET first_name = 'Bob'\n",
    "WHERE last_name = 'Elder'\n",
    "\"\"\")"
   ]
  },
  {
   "cell_type": "code",
   "execution_count": 59,
   "id": "364e9b06-1dd4-4c82-bcd7-50294af44168",
   "metadata": {},
   "outputs": [
    {
     "data": {
      "text/plain": [
       "[(1, 'Bob', 'Elder', 'john@codemy.com'),\n",
       " (2, 'Wes', 'Brown', 'wes@brown.com'),\n",
       " (3, 'Steph', 'Kuewa', 'steph@kuewa.com'),\n",
       " (4, 'Dan', 'Pas', 'dan@pas.com')]"
      ]
     },
     "execution_count": 59,
     "metadata": {},
     "output_type": "execute_result"
    }
   ],
   "source": [
    "c.execute(\"\"\"\n",
    "SELECT rowid, * \n",
    "FROM customers\n",
    "\"\"\")\n",
    "\n",
    "# lookup all result\n",
    "c.fetchall()"
   ]
  },
  {
   "cell_type": "code",
   "execution_count": 60,
   "id": "53545430-f7b1-4118-ae2e-25ce5d743029",
   "metadata": {},
   "outputs": [
    {
     "data": {
      "text/plain": [
       "[(1, 'Bob', 'Elder', 'john@codemy.com'),\n",
       " (2, 'Wes', 'Brown', 'wes@brown.com'),\n",
       " (3, 'Steph', 'Kuewa', 'steph@kuewa.com')]"
      ]
     },
     "execution_count": 60,
     "metadata": {},
     "output_type": "execute_result"
    }
   ],
   "source": [
    "# delete a record\n",
    "c.execute(\"\"\"\n",
    "DELETE from customers \n",
    "WHERE rowid = 4\n",
    "\"\"\")\n",
    "\n",
    "c.execute(\"\"\"\n",
    "SELECT rowid, *\n",
    "FROM customers\n",
    "\"\"\").fetchall()"
   ]
  },
  {
   "cell_type": "code",
   "execution_count": 62,
   "id": "9ea2b5e6-2f00-4659-988d-415f0f699966",
   "metadata": {},
   "outputs": [
    {
     "data": {
      "text/html": [
       "<div>\n",
       "<style scoped>\n",
       "    .dataframe tbody tr th:only-of-type {\n",
       "        vertical-align: middle;\n",
       "    }\n",
       "\n",
       "    .dataframe tbody tr th {\n",
       "        vertical-align: top;\n",
       "    }\n",
       "\n",
       "    .dataframe thead th {\n",
       "        text-align: right;\n",
       "    }\n",
       "</style>\n",
       "<table border=\"1\" class=\"dataframe\">\n",
       "  <thead>\n",
       "    <tr style=\"text-align: right;\">\n",
       "      <th></th>\n",
       "      <th>first_name</th>\n",
       "      <th>last_name</th>\n",
       "      <th>email</th>\n",
       "    </tr>\n",
       "  </thead>\n",
       "  <tbody>\n",
       "    <tr>\n",
       "      <th>0</th>\n",
       "      <td>Wes</td>\n",
       "      <td>Brown</td>\n",
       "      <td>wes@brown.com</td>\n",
       "    </tr>\n",
       "    <tr>\n",
       "      <th>1</th>\n",
       "      <td>Bob</td>\n",
       "      <td>Elder</td>\n",
       "      <td>john@codemy.com</td>\n",
       "    </tr>\n",
       "    <tr>\n",
       "      <th>2</th>\n",
       "      <td>Steph</td>\n",
       "      <td>Kuewa</td>\n",
       "      <td>steph@kuewa.com</td>\n",
       "    </tr>\n",
       "  </tbody>\n",
       "</table>\n",
       "</div>"
      ],
      "text/plain": [
       "  first_name last_name            email\n",
       "0        Wes     Brown    wes@brown.com\n",
       "1        Bob     Elder  john@codemy.com\n",
       "2      Steph     Kuewa  steph@kuewa.com"
      ]
     },
     "execution_count": 62,
     "metadata": {},
     "output_type": "execute_result"
    }
   ],
   "source": [
    "# order the fetch result\n",
    "pd.read_sql_query(\"\"\"\n",
    "SELECT * FROM customers c ORDER BY c.last_name\\\n",
    "\"\"\", conn)"
   ]
  },
  {
   "cell_type": "code",
   "execution_count": 64,
   "id": "0561ce97-a198-454e-be69-d516cf860fdc",
   "metadata": {},
   "outputs": [
    {
     "data": {
      "text/html": [
       "<div>\n",
       "<style scoped>\n",
       "    .dataframe tbody tr th:only-of-type {\n",
       "        vertical-align: middle;\n",
       "    }\n",
       "\n",
       "    .dataframe tbody tr th {\n",
       "        vertical-align: top;\n",
       "    }\n",
       "\n",
       "    .dataframe thead th {\n",
       "        text-align: right;\n",
       "    }\n",
       "</style>\n",
       "<table border=\"1\" class=\"dataframe\">\n",
       "  <thead>\n",
       "    <tr style=\"text-align: right;\">\n",
       "      <th></th>\n",
       "      <th>first_name</th>\n",
       "      <th>last_name</th>\n",
       "      <th>email</th>\n",
       "    </tr>\n",
       "  </thead>\n",
       "  <tbody>\n",
       "    <tr>\n",
       "      <th>0</th>\n",
       "      <td>Steph</td>\n",
       "      <td>Kuewa</td>\n",
       "      <td>steph@kuewa.com</td>\n",
       "    </tr>\n",
       "    <tr>\n",
       "      <th>1</th>\n",
       "      <td>Bob</td>\n",
       "      <td>Elder</td>\n",
       "      <td>john@codemy.com</td>\n",
       "    </tr>\n",
       "    <tr>\n",
       "      <th>2</th>\n",
       "      <td>Wes</td>\n",
       "      <td>Brown</td>\n",
       "      <td>wes@brown.com</td>\n",
       "    </tr>\n",
       "  </tbody>\n",
       "</table>\n",
       "</div>"
      ],
      "text/plain": [
       "  first_name last_name            email\n",
       "0      Steph     Kuewa  steph@kuewa.com\n",
       "1        Bob     Elder  john@codemy.com\n",
       "2        Wes     Brown    wes@brown.com"
      ]
     },
     "execution_count": 64,
     "metadata": {},
     "output_type": "execute_result"
    }
   ],
   "source": [
    "# order the fetch result with descending order\n",
    "pd.read_sql_query(\"\"\"\n",
    "SELECT * FROM customers c ORDER BY c.last_name DESC\n",
    "\"\"\", conn)"
   ]
  },
  {
   "cell_type": "code",
   "execution_count": 65,
   "id": "de06f31a-be39-4dd2-a595-f303f4280c48",
   "metadata": {},
   "outputs": [
    {
     "data": {
      "text/html": [
       "<div>\n",
       "<style scoped>\n",
       "    .dataframe tbody tr th:only-of-type {\n",
       "        vertical-align: middle;\n",
       "    }\n",
       "\n",
       "    .dataframe tbody tr th {\n",
       "        vertical-align: top;\n",
       "    }\n",
       "\n",
       "    .dataframe thead th {\n",
       "        text-align: right;\n",
       "    }\n",
       "</style>\n",
       "<table border=\"1\" class=\"dataframe\">\n",
       "  <thead>\n",
       "    <tr style=\"text-align: right;\">\n",
       "      <th></th>\n",
       "      <th>first_name</th>\n",
       "      <th>last_name</th>\n",
       "      <th>email</th>\n",
       "    </tr>\n",
       "  </thead>\n",
       "  <tbody>\n",
       "    <tr>\n",
       "      <th>0</th>\n",
       "      <td>Steph</td>\n",
       "      <td>Kuewa</td>\n",
       "      <td>steph@kuewa.com</td>\n",
       "    </tr>\n",
       "  </tbody>\n",
       "</table>\n",
       "</div>"
      ],
      "text/plain": [
       "  first_name last_name            email\n",
       "0      Steph     Kuewa  steph@kuewa.com"
      ]
     },
     "execution_count": 65,
     "metadata": {},
     "output_type": "execute_result"
    }
   ],
   "source": [
    "# order the fetch result with descending order\n",
    "pd.read_sql_query(\"\"\"\n",
    "SELECT * FROM customers c ORDER BY c.last_name DESC LIMIT 1\n",
    "\"\"\", conn)"
   ]
  },
  {
   "cell_type": "code",
   "execution_count": 67,
   "id": "27af5d02-b13d-4e8e-8706-7b829dc6b03e",
   "metadata": {},
   "outputs": [
    {
     "data": {
      "text/html": [
       "<div>\n",
       "<style scoped>\n",
       "    .dataframe tbody tr th:only-of-type {\n",
       "        vertical-align: middle;\n",
       "    }\n",
       "\n",
       "    .dataframe tbody tr th {\n",
       "        vertical-align: top;\n",
       "    }\n",
       "\n",
       "    .dataframe thead th {\n",
       "        text-align: right;\n",
       "    }\n",
       "</style>\n",
       "<table border=\"1\" class=\"dataframe\">\n",
       "  <thead>\n",
       "    <tr style=\"text-align: right;\">\n",
       "      <th></th>\n",
       "      <th>first_name</th>\n",
       "      <th>last_name</th>\n",
       "      <th>email</th>\n",
       "    </tr>\n",
       "  </thead>\n",
       "  <tbody>\n",
       "    <tr>\n",
       "      <th>0</th>\n",
       "      <td>Wes</td>\n",
       "      <td>Brown</td>\n",
       "      <td>wes@brown.com</td>\n",
       "    </tr>\n",
       "    <tr>\n",
       "      <th>1</th>\n",
       "      <td>Steph</td>\n",
       "      <td>Kuewa</td>\n",
       "      <td>steph@kuewa.com</td>\n",
       "    </tr>\n",
       "  </tbody>\n",
       "</table>\n",
       "</div>"
      ],
      "text/plain": [
       "  first_name last_name            email\n",
       "0        Wes     Brown    wes@brown.com\n",
       "1      Steph     Kuewa  steph@kuewa.com"
      ]
     },
     "execution_count": 67,
     "metadata": {},
     "output_type": "execute_result"
    }
   ],
   "source": [
    "# select with multiple conditions\n",
    "pd.read_sql_query(\"\"\"\n",
    "SELECT * \n",
    "FROM customers c \n",
    "WHERE last_name LIKE 'Br%' OR rowid = 3\n",
    "\"\"\", conn)"
   ]
  },
  {
   "cell_type": "markdown",
   "id": "058975d3-5969-4100-994e-202734323d72",
   "metadata": {},
   "source": [
    "Remember always commit your execution and close your database connection after all operations."
   ]
  },
  {
   "cell_type": "code",
   "execution_count": 46,
   "id": "66198515-1cb8-412e-805b-a577421c0afd",
   "metadata": {},
   "outputs": [],
   "source": [
    "# commit the command\n",
    "conn.commit()"
   ]
  },
  {
   "cell_type": "code",
   "execution_count": 17,
   "id": "95259cb2-3b9c-4446-acb2-aa0c502d28ff",
   "metadata": {},
   "outputs": [],
   "source": [
    "# close the connection\n",
    "conn.close()"
   ]
  }
 ],
 "metadata": {
  "kernelspec": {
   "display_name": "Python 3 (ipykernel)",
   "language": "python",
   "name": "python3"
  },
  "language_info": {
   "codemirror_mode": {
    "name": "ipython",
    "version": 3
   },
   "file_extension": ".py",
   "mimetype": "text/x-python",
   "name": "python",
   "nbconvert_exporter": "python",
   "pygments_lexer": "ipython3",
   "version": "3.10.4"
  }
 },
 "nbformat": 4,
 "nbformat_minor": 5
}
