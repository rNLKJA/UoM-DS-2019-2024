{
 "cells": [
  {
   "cell_type": "code",
   "execution_count": 2,
   "id": "2c2c1e3c-e06a-4c42-8074-c52cf8d2ff64",
   "metadata": {
    "tags": []
   },
   "outputs": [],
   "source": [
    "from numba import jit, cuda"
   ]
  },
  {
   "cell_type": "code",
   "execution_count": 4,
   "id": "5f3ce8c7-380a-4020-a364-7552df4d2eb8",
   "metadata": {
    "tags": []
   },
   "outputs": [
    {
     "name": "stdout",
     "output_type": "stream",
     "text": [
      "CPU times: total: 703 ms\n",
      "Wall time: 738 ms\n"
     ]
    },
    {
     "data": {
      "text/plain": [
       "(8, 13, 21, 10946, 832040, 102334155)"
      ]
     },
     "execution_count": 4,
     "metadata": {},
     "output_type": "execute_result"
    }
   ],
   "source": [
    "%%time\n",
    "@jit(nopython=True)\n",
    "def fib(n: int) -> int:\n",
    "    if n <= 2:\n",
    "        return 1\n",
    "    return fib(n - 1) + fib(n - 2)\n",
    "\n",
    "fib(6), fib(7), fib(8), fib(21), fib(30), fib(40)"
   ]
  },
  {
   "cell_type": "code",
   "execution_count": 5,
   "id": "0fd6ffb5-624b-4f64-a38b-13519d041ed6",
   "metadata": {},
   "outputs": [
    {
     "name": "stdout",
     "output_type": "stream",
     "text": [
      "CPU times: total: 20 s\n",
      "Wall time: 20 s\n"
     ]
    },
    {
     "data": {
      "text/plain": [
       "(8, 13, 21, 10946, 832040, 102334155)"
      ]
     },
     "execution_count": 5,
     "metadata": {},
     "output_type": "execute_result"
    }
   ],
   "source": [
    "%%time\n",
    "def fib(n: int) -> int:\n",
    "    if n <= 2:\n",
    "        return 1\n",
    "    return fib(n - 1) + fib(n - 2)\n",
    "\n",
    "fib(6), fib(7), fib(8), fib(21), fib(30), fib(40)"
   ]
  },
  {
   "cell_type": "code",
   "execution_count": 3,
   "id": "96bfc47f-abfd-4391-89b2-0b709ddb93bb",
   "metadata": {},
   "outputs": [
    {
     "name": "stdout",
     "output_type": "stream",
     "text": [
      "CPU times: total: 281 ms\n",
      "Wall time: 305 ms\n"
     ]
    },
    {
     "data": {
      "text/plain": [
       "8"
      ]
     },
     "execution_count": 3,
     "metadata": {},
     "output_type": "execute_result"
    }
   ],
   "source": [
    "%%time\n",
    "@jit(nopython=True)\n",
    "def fib(n: int) -> int:\n",
    "    memo = [0, 1]\n",
    "    \n",
    "    for i in range(2, n + 1):\n",
    "        memo.append(fib(i - 1)  + fib(i - 2))\n",
    "    \n",
    "    return memo[n]\n",
    "\n",
    "fib(6)"
   ]
  },
  {
   "cell_type": "markdown",
   "id": "893bba7f-0ce7-41de-938d-3d65725deed6",
   "metadata": {},
   "source": [
    "Calculate Fibonacci number using matrix formula:\n",
    "\n",
    "$$\n",
    "\\begin{bmatrix} 1 & 1 \\\\ 0 & 1 \\end{bmatrix} = \\begin{bmatrix} F_{n+1} & F_n \\\\ F_n & F_{n + 1}\\end{bmatrix}\n",
    "$$"
   ]
  },
  {
   "cell_type": "code",
   "execution_count": 17,
   "id": "28af1fe0-0363-4f55-8b38-a2b5f6683160",
   "metadata": {},
   "outputs": [
    {
     "name": "stdout",
     "output_type": "stream",
     "text": [
      "CPU times: total: 0 ns\n",
      "Wall time: 999 µs\n"
     ]
    },
    {
     "data": {
      "text/plain": [
       "(8, 13, 21, 10946, 832040, 102334155)"
      ]
     },
     "execution_count": 17,
     "metadata": {},
     "output_type": "execute_result"
    }
   ],
   "source": [
    "%%time\n",
    "import numpy as np\n",
    "\n",
    "def fib(n):\n",
    "    F = np.matrix([[1, 1], [1, 0]])\n",
    "    \n",
    "    if n == 0:\n",
    "        return 0\n",
    "    \n",
    "    res = np.linalg.matrix_power(F, n - 1)\n",
    "    return res.tolist()[0][0]\n",
    "\n",
    "fib(6), fib(7), fib(8), fib(21), fib(30), fib(40)"
   ]
  },
  {
   "cell_type": "code",
   "execution_count": 20,
   "id": "f711f7a9-7b21-4cd6-8e68-e50a23f5241b",
   "metadata": {},
   "outputs": [
    {
     "name": "stdout",
     "output_type": "stream",
     "text": [
      "CPU times: total: 0 ns\n",
      "Wall time: 0 ns\n"
     ]
    },
    {
     "data": {
      "text/plain": [
       "(8, 13, 21, 10946, 832040, 102334155)"
      ]
     },
     "execution_count": 20,
     "metadata": {},
     "output_type": "execute_result"
    }
   ],
   "source": [
    "%%time\n",
    "MAX = 1000\n",
    " \n",
    "# Create an array for memoization\n",
    "f = [0] * MAX\n",
    " \n",
    "# Returns n'th fibonacci number using table f[]\n",
    "def fib(n) :\n",
    "    # Base cases\n",
    "    if (n == 0) :\n",
    "        return 0\n",
    "    if (n == 1 or n == 2) :\n",
    "        f[n] = 1\n",
    "        return (f[n])\n",
    " \n",
    "    # If fib(n) is already computed\n",
    "    if (f[n]) :\n",
    "        return f[n]\n",
    " \n",
    "    if( n & 1) :\n",
    "        k = (n + 1) // 2\n",
    "    else :\n",
    "        k = n // 2\n",
    " \n",
    "    # Applying above formula [Note value n&1 is 1\n",
    "    # if n is odd, else 0.\n",
    "    if((n & 1) ) :\n",
    "        f[n] = (fib(k) * fib(k) + fib(k-1) * fib(k-1))\n",
    "    else :\n",
    "        f[n] = (2*fib(k-1) + fib(k))*fib(k)\n",
    " \n",
    "    return f[n]\n",
    "\n",
    "fib(6), fib(7), fib(8), fib(21), fib(30), fib(40)"
   ]
  },
  {
   "cell_type": "markdown",
   "id": "621d8111-dbd8-4494-a44e-16f8c83d4c91",
   "metadata": {},
   "source": [
    "Calculate Fibonacci number using formula: $F_n = \\cfrac{(\\sqrt{5} + 1) / 2}{\\sqrt{5}}$"
   ]
  },
  {
   "cell_type": "code",
   "execution_count": 21,
   "id": "8a5bafe6-a140-46ee-a4f1-0729b450840e",
   "metadata": {},
   "outputs": [
    {
     "name": "stdout",
     "output_type": "stream",
     "text": [
      "CPU times: total: 0 ns\n",
      "Wall time: 0 ns\n"
     ]
    },
    {
     "data": {
      "text/plain": [
       "(8, 13, 21, 10946, 832040, 102334155)"
      ]
     },
     "execution_count": 21,
     "metadata": {},
     "output_type": "execute_result"
    }
   ],
   "source": [
    "%%time\n",
    "def fib(n):\n",
    "    phi = (1 + np.sqrt(5)) / 2\n",
    " \n",
    "    return round(pow(phi, n) / np.sqrt(5))\n",
    "\n",
    "fib(6), fib(7), fib(8), fib(21), fib(30), fib(40)"
   ]
  },
  {
   "cell_type": "code",
   "execution_count": null,
   "id": "d2caae5f-9c56-4fa9-8071-1c0bac0f9a86",
   "metadata": {},
   "outputs": [],
   "source": []
  }
 ],
 "metadata": {
  "kernelspec": {
   "display_name": "Python 3 (ipykernel)",
   "language": "python",
   "name": "python3"
  },
  "language_info": {
   "codemirror_mode": {
    "name": "ipython",
    "version": 3
   },
   "file_extension": ".py",
   "mimetype": "text/x-python",
   "name": "python",
   "nbconvert_exporter": "python",
   "pygments_lexer": "ipython3",
   "version": "3.10.4"
  }
 },
 "nbformat": 4,
 "nbformat_minor": 5
}
