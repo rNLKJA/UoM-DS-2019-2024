{
 "cells": [
  {
   "cell_type": "code",
   "execution_count": 1,
   "id": "d8d671f4-81b5-4b8b-8110-68bb510e9d8e",
   "metadata": {
    "execution": {
     "iopub.execute_input": "2022-06-10T05:05:11.989590Z",
     "iopub.status.busy": "2022-06-10T05:05:11.986262Z",
     "iopub.status.idle": "2022-06-10T05:05:12.040088Z",
     "shell.execute_reply": "2022-06-10T05:05:12.039548Z",
     "shell.execute_reply.started": "2022-06-10T05:05:11.987461Z"
    }
   },
   "outputs": [
    {
     "name": "stdout",
     "output_type": "stream",
     "text": [
      "Element is present at index 3\n"
     ]
    }
   ],
   "source": [
    "# Python3 code to linearly search x in arr[].\n",
    "# If x is present then return its location,\n",
    "# otherwise return -1\n",
    " \n",
    "def linear_search(arr, n, x):\n",
    " \n",
    "    for i in range(0, n):\n",
    "        if (arr[i] == x):\n",
    "            return i\n",
    "    return -1\n",
    " \n",
    "# Driver Code\n",
    "arr = [2, 3, 4, 10, 40]\n",
    "x = 10\n",
    "n = len(arr)\n",
    " \n",
    "# Function call\n",
    "result = linear_search(arr, n, x)\n",
    "if result == -1:\n",
    "    print(\"Element is not present in array\")\n",
    "else:\n",
    "    print(\"Element is present at index\", result)"
   ]
  }
 ],
 "metadata": {
  "kernelspec": {
   "display_name": "Python 3 (ipykernel)",
   "language": "python",
   "name": "python3"
  },
  "language_info": {
   "codemirror_mode": {
    "name": "ipython",
    "version": 3
   },
   "file_extension": ".py",
   "mimetype": "text/x-python",
   "name": "python",
   "nbconvert_exporter": "python",
   "pygments_lexer": "ipython3",
   "version": "3.8.10"
  }
 },
 "nbformat": 4,
 "nbformat_minor": 5
}
