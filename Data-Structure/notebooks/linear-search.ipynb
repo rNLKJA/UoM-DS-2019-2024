{
 "cells": [
  {
   "cell_type": "markdown",
   "id": "872ebbb6-56a8-4797-8135-8ca9164904fc",
   "metadata": {},
   "source": [
    "### Linear Search\n",
    "\n",
    "Problem: Given an array arr[] of n elements, write a function to search a given element x in arr[].\n",
    "\n",
    "**A simple approach is to do a linear search, i.e ** \n",
    "- Start from the leftmost element of arr[] and one by one compare x with each element of arr[]\n",
    "- If x matches with an element, return the index.\n",
    "- If x doesn’t match with any of elements, return -1."
   ]
  },
  {
   "cell_type": "code",
   "execution_count": 1,
   "id": "d8d671f4-81b5-4b8b-8110-68bb510e9d8e",
   "metadata": {
    "execution": {
     "iopub.execute_input": "2022-06-10T05:05:11.989590Z",
     "iopub.status.busy": "2022-06-10T05:05:11.986262Z",
     "iopub.status.idle": "2022-06-10T05:05:12.040088Z",
     "shell.execute_reply": "2022-06-10T05:05:12.039548Z",
     "shell.execute_reply.started": "2022-06-10T05:05:11.987461Z"
    }
   },
   "outputs": [
    {
     "name": "stdout",
     "output_type": "stream",
     "text": [
      "Element is present at index 3\n"
     ]
    }
   ],
   "source": [
    "# Python3 code to linearly search x in arr[].\n",
    "# If x is present then return its location,\n",
    "# otherwise return -1\n",
    " \n",
    "def linear_search(arr, n, x):\n",
    " \n",
    "    for i in range(0, n):\n",
    "        if (arr[i] == x):\n",
    "            return i\n",
    "    return -1\n",
    " \n",
    "# Driver Code\n",
    "arr = [2, 3, 4, 10, 40]\n",
    "x = 10\n",
    "n = len(arr)\n",
    " \n",
    "# Function call\n",
    "result = linear_search(arr, n, x)\n",
    "if result == -1:\n",
    "    print(\"Element is not present in array\")\n",
    "else:\n",
    "    print(\"Element is present at index\", result)"
   ]
  },
  {
   "cell_type": "markdown",
   "id": "0a8110dc-ec09-4233-8b49-b5e400b2e18c",
   "metadata": {},
   "source": [
    "**Improve Linear Search Worst-Case Complexity**\n",
    "- if element Found at last  O(n) to O(1)\n",
    "- It is the same as previous method because here we are performing 2 ‘if’ operations in one iteration of the loop and in previous method we\n",
    "- performed only 1 ‘if’ operation. This makes both the time complexities same."
   ]
  },
  {
   "cell_type": "code",
   "execution_count": 2,
   "id": "0a3b89f7-8dca-4da8-88e1-d7dc27742eb9",
   "metadata": {
    "execution": {
     "iopub.execute_input": "2022-06-10T07:47:27.013743Z",
     "iopub.status.busy": "2022-06-10T07:47:27.011145Z",
     "iopub.status.idle": "2022-06-10T07:47:27.035881Z",
     "shell.execute_reply": "2022-06-10T07:47:27.035055Z",
     "shell.execute_reply.started": "2022-06-10T07:47:27.013541Z"
    }
   },
   "outputs": [
    {
     "name": "stdout",
     "output_type": "stream",
     "text": [
      "Element found in Array at  5  Position with  1  Attempt\n"
     ]
    }
   ],
   "source": [
    "# Python3 program for linear search\n",
    "def search(arr, search_Element):\n",
    "    left = 0\n",
    "    length = len(arr)\n",
    "    position = -1\n",
    "    right = length - 1\n",
    " \n",
    "    # Run loop from 0 to right\n",
    "    for left in range(0, right, 1):\n",
    " \n",
    "        # If search_element is found with\n",
    "        # left variable\n",
    "        if (arr[left] == search_Element):\n",
    "            position = left\n",
    "            print(\"Element found in Array at \", position +\n",
    "                  1, \" Position with \", left + 1, \" Attempt\")\n",
    "            break\n",
    " \n",
    "        # If search_element is found with\n",
    "        # right variable\n",
    "        if (arr[right] == search_Element):\n",
    "            position = right\n",
    "            print(\"Element found in Array at \", position + 1,\n",
    "                  \" Position with \", length - right, \" Attempt\")\n",
    "            break\n",
    "        left += 1\n",
    "        right -= 1\n",
    " \n",
    "    # If element not found\n",
    "    if (position == -1):\n",
    "        print(\"Not found in Array with \", left, \" Attempt\")\n",
    " \n",
    "# Driver code\n",
    "arr = [1, 2, 3, 4, 5]\n",
    "search_element = 5\n",
    " \n",
    "# Function call\n",
    "search(arr, search_element)\n",
    " \n",
    "# This code is contributed by Dharanendra L V."
   ]
  },
  {
   "cell_type": "code",
   "execution_count": null,
   "id": "8c7e551e-28ee-4675-9bf7-2eb4193bac6f",
   "metadata": {},
   "outputs": [],
   "source": []
  }
 ],
 "metadata": {
  "kernelspec": {
   "display_name": "Python 3 (ipykernel)",
   "language": "python",
   "name": "python3"
  },
  "language_info": {
   "codemirror_mode": {
    "name": "ipython",
    "version": 3
   },
   "file_extension": ".py",
   "mimetype": "text/x-python",
   "name": "python",
   "nbconvert_exporter": "python",
   "pygments_lexer": "ipython3",
   "version": "3.8.10"
  }
 },
 "nbformat": 4,
 "nbformat_minor": 5
}
