{
 "cells": [
  {
   "cell_type": "markdown",
   "id": "aa05c1c6-aa97-43bc-9933-7bddf7cad699",
   "metadata": {},
   "source": [
    "### Skip List"
   ]
  },
  {
   "cell_type": "markdown",
   "id": "331aacc9-0955-44cb-97d7-07c7f1d567f5",
   "metadata": {
    "execution": {
     "iopub.execute_input": "2022-06-08T04:48:56.316075Z",
     "iopub.status.busy": "2022-06-08T04:48:56.315638Z",
     "iopub.status.idle": "2022-06-08T04:48:56.322888Z",
     "shell.execute_reply": "2022-06-08T04:48:56.322178Z",
     "shell.execute_reply.started": "2022-06-08T04:48:56.316023Z"
    },
    "tags": []
   },
   "source": [
    "A skip list is a probabilistic data structure. The skip list is used to store a sorted list of elements or data with a linked list. It allows the process of the elements or data to view efficiently. In one single step, it skips several elements of the entire list, which is why it is known as a skip list.\n",
    "\n",
    "The skip list is an extended version of the linked list. It allows the user to search, remove, and insert the element very quickly. It consists of a base list that includes a set of elements which maintains the link hierarchy of the subsequent elements."
   ]
  },
  {
   "cell_type": "markdown",
   "id": "b48a9edf-be30-4ff1-b0e1-3501aec8dd7d",
   "metadata": {},
   "source": [
    "#### Skip list structure\n",
    "\n",
    "It is built in two layers: the lowest layer and top layer.\n",
    "\n",
    "The lowest layer of the skip list is a common sorted linked list, and the top layer of the skip list are an \"express line\"  where the elements are skipped.\n",
    "\n",
    "#### Complexity of the skip list\n",
    "| S.No | Complexity| Average Case | Worst Case |\n",
    "| ---- | --------- | ------------ | ---------- |\n",
    "| 1    | Access    | O(log n)     | O(n)       |\n",
    "| 2    | Search    | O(log n)     | O(n)       |\n",
    "| 3    | Delete    | O(log n)     | O(n)       |\n",
    "| 4    | Insert    | O(log n)     | O(n)       |\n",
    "| 5    | Space     |              | O(nlog n)  |"
   ]
  },
  {
   "cell_type": "code",
   "execution_count": null,
   "id": "b79071b1-ed24-44de-930b-0762f09c4f69",
   "metadata": {},
   "outputs": [],
   "source": []
  }
 ],
 "metadata": {
  "kernelspec": {
   "display_name": "Python 3 (ipykernel)",
   "language": "python",
   "name": "python3"
  },
  "language_info": {
   "codemirror_mode": {
    "name": "ipython",
    "version": 3
   },
   "file_extension": ".py",
   "mimetype": "text/x-python",
   "name": "python",
   "nbconvert_exporter": "python",
   "pygments_lexer": "ipython3",
   "version": "3.8.10"
  }
 },
 "nbformat": 4,
 "nbformat_minor": 5
}
