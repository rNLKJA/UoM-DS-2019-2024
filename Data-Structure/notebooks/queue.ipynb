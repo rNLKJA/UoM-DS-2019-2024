{
 "cells": [
  {
   "cell_type": "markdown",
   "id": "550b19a9-dfc7-45bc-a712-d859571f6a02",
   "metadata": {},
   "source": [
    "### Queue\n",
    "\n",
    "In computer science, a queue is a collection of entities that are maintained in a sequence and can be modified by the addition of entities at one end of the sequence and the removal of entities from the other end of the sequence. By convention, the end of the sequence at which elements are added is called the back, tail, or rear of the queue, and the end at which elements are removed is called the head or front of the queue, analogously to the words used when people line up to wait for goods or services.\n",
    "\n",
    "The operation of adding an element to the rear of the queue is known as enqueue, and the operation of removing an element from the front is known as dequeue. Other operations may also be allowed, often including a peek or front operation that returns the value of the next element to be dequeued without dequeuing it.\n",
    "\n",
    "A queue can be defined as an ordered list which enables insert operations to be performed at one end called REAR and delete operations to be performed at another end called FRONT.\n",
    "\n",
    "![queue](../img/queue.png)\n",
    "\n",
    "### Application of Queue\n",
    "\n",
    "Due to the fact that queue performs actions on first in first out basis which is quite fair for the ordering of actions. There are vaious applications of queues discussed as below.\n",
    "- Queues are widely used as waiting lists for a single shared resource like printer, disk, CPU.\n",
    "- Queues are used in asynchronous transfer of data (where data is not being transferred at the same rate between two processes) for eg. pipes, file IO, sockets.\n",
    "- Queues are used as buffers in most of the applications like MP3 media player, CD player, etc.\n",
    "- Queue are used to maintain the play list in media players in order to add and remove the songs from the play-list.\n",
    "- Queues are used in operating systems for handling interrupts.\n",
    "\n",
    "### Time Complexity\n",
    "\n",
    "| Action    | Average | Worst | \n",
    "| --------- | ------- | ----- |\n",
    "| Access    | θ(n)    | O(n)  |\n",
    "| Search    | θ(n)    | O(n)  |    \n",
    "| Insertion | θ(1)    | O(n)  |\n",
    "| Deletion  | θ(1)    | O(n)  |\n",
    "\n",
    "### Space Complexity\n",
    "Worst case: O(n)"
   ]
  },
  {
   "cell_type": "markdown",
   "id": "1b4abc2e-e080-4da9-904f-d85b1642057a",
   "metadata": {},
   "source": [
    "### Types of Queue\n",
    "\n",
    "#### What is a Queue\n",
    "\n",
    "Queue is the data structure that is similar to the queue in the real world. A queue is a data structure in which whatever comes first will go out first, and it follows the FIFO (First-In-First-Out) policy. Queue can also be defined as the list or collection in which the insertion is done from one end known as the rear end or the tail of the queue, whereas the deletion is done from another end known as the front end or the head of the queue.\n",
    "\n",
    "The real-world example of a queue is the ticket queue outside a cinema hall, where the person who enters first in the queue gets the ticket first, and the last person enters in the queue gets the ticket at last. Similar approach is followed in the queue in data structure.\n",
    "\n",
    "The representation of the queue is shown in the below image:\n",
    "\n",
    "![ds types of queue](../img/ds-types-of-queue.png)\n",
    "\n",
    "#### Types of Queue\n",
    "There are four different types of queue that are listed as below:\n",
    "\n",
    "![ds-types-of-queue2](../img/ds-types-of-queue2.png)\n",
    "\n",
    "- Simple Queue or Linear Queue\n",
    "- Circular Queue\n",
    "- Priority Queue\n",
    "- Double Ended Queue (or Deque)"
   ]
  },
  {
   "cell_type": "markdown",
   "id": "34ad258b-10cf-409c-873f-798a5fead9e4",
   "metadata": {},
   "source": [
    "#### Simple Queue or Linear Queue\n",
    "In Linear Queue, an insertion takes place from one end while the deletion occurs from another end. The end at which the insertion takes place is known as the rear end, and the end at which the deletion takes place is known as front end. It strictly follows the FIFO rule.\n",
    "\n",
    "![ds-types-of-queue3](../img/ds-types-of-queue3.png)\n",
    "\n",
    "The major drawback of using a linear Queue is that insertion is done only from the rear end. If the first three elements are deleted from the Queue, we cannot insert more elements even though the space is available in a Linear Queue. In this case, the linear Queue shows the overflow condition as the rear is pointing to the last element of the Queue."
   ]
  },
  {
   "cell_type": "markdown",
   "id": "5182b37a-6f4a-4f39-8e78-74e881629d36",
   "metadata": {},
   "source": [
    "#### Circular Queue\n",
    "In Circular Queue, all the nodes are represented as circular. It is similar to the linear Queue except that the last element of the queue is connected to the first element. It is also known as Ring Buffer, as all the ends are connected to another end. The representation of circular queue is shown in the below image:\n",
    "\n",
    "![ds-types-of-queue4](../img/ds-types-of-queue4.png)\n",
    "\n",
    "The drawback that occurs in a linear queue is overcome by using the circular queue. If the empty space is available in a circular queue, the new element can be added in an empty space by simply incrementing the value of rear. The main advantage of using the circular queue is better memory utilization."
   ]
  },
  {
   "cell_type": "markdown",
   "id": "fdf7b368-d704-4114-ae27-a642e677b788",
   "metadata": {},
   "source": [
    "#### Priority Queue\n",
    "\n",
    "It is a special type of queue in which the elements are arranged based on the priority. It is a special type of queue data structure in which every element has a priority associated with it. Suppose some elements occur with the same priority, they will be arranged according to the FIFO principle. The representation of priority queue is shown in the below image:\n",
    "\n",
    "![ds-types-of-queue5](../img/ds-types-of-queue5.png)\n",
    "\n",
    "Insertion in priority queue takes place based on the arrival, while deletion in the priority queue occurs based on the priority. Priority queue is mainly used to implement the CPU scheduling algorithms.\n",
    "\n",
    "There are two types of priority queue that are discussed as follows -\n",
    "- Ascending priority queue - In ascending priority queue, elements can be inserted in arbitrary order, but only smallest can be deleted first. Suppose an array with elements 7, 5, and 3 in the same order, so, insertion can be done with the same sequence, but the order of deleting the elements is 3, 5, 7.\n",
    "- Descending priority queue - In descending priority queue, elements can be inserted in arbitrary order, but only the largest element can be deleted first. Suppose an array with elements 7, 3, and 5 in the same order, so, insertion can be done with the same sequence, but the order of deleting the elements is 7, 5, 3."
   ]
  },
  {
   "cell_type": "markdown",
   "id": "09822d02-f78e-4bc8-b049-463856d40e28",
   "metadata": {},
   "source": [
    "#### Double Ended Queue (or Deque)\n",
    "\n",
    "In Deque or Double Ended Queue, insertion and deletion can be done from both ends of the queue either from the front or rear. It means that we can insert and delete elements from both front and rear ends of the queue. Deque can be used as a palindrome checker means that if we read the string from both ends, then the string would be the same.\n",
    "\n",
    "Deque can be used both as stack and queue as it allows the insertion and deletion operations on both ends. Deque can be considered as stack because stack follows the LIFO (Last In First Out) principle in which insertion and deletion both can be performed only from one end. And in deque, it is possible to perform both insertion and deletion from one end, and Deque does not follow the FIFO principle.\n",
    "\n",
    "The representation of the deque is shown in the below image:\n",
    "\n",
    "![ds-types-of-queue6](../img/ds-types-of-queue6.png)\n",
    "\n",
    "There are two types of deque that are discussed as follows:\n",
    "- Input restricted deque - As the name implies, in input restricted queue, insertion operation can be performed at only one end, while deletion can be performed from both ends.\n",
    "\n",
    "![ds-types-of-queue7](../img/ds-types-of-queue7.png)\n",
    "\n",
    "- Output restricted deque - As the name implies, in output restricted queue, deletion operation can be performed at only one end, while insertion can be performed from both ends.\n",
    "\n",
    "![ds-types-of-queue8](../img/ds-types-of-queue8.png)"
   ]
  },
  {
   "cell_type": "markdown",
   "id": "5109ca02-2185-46c4-a84e-eefafb9810d2",
   "metadata": {},
   "source": [
    "### Operations performed on queue\n",
    "\n",
    "The fundamental operations that can be performed on queue are listed as follows:\n",
    "- Enqueue: the enqueue operation is used to insert the element at the rear end of the queue. It returns void.\n",
    "- Dequeue: it performs the deletion from the front-end of the queue. It also returns the element which has been removed from the front-end. It returns an integer value.\n",
    "- Peek: this is the third operation that returns the element, which is pointed by the front pointer in the queue but does not delete it.\n",
    "- Queue overflow (isFull): it shows the overflow condition when the queue is completely full.\n",
    "- Queue underflow (isEmpty): it shows the underflow condition when the queue is empty.: it shows the underflow condition when the queue is empty.: it shows the underflow condition when the queue is empty."
   ]
  },
  {
   "cell_type": "markdown",
   "id": "4be41cab-427c-4624-a0a3-a8b7833e6c0c",
   "metadata": {},
   "source": []
  },
  {
   "cell_type": "markdown",
   "id": "778a6e33-8648-4d25-ab8d-78753d331a6e",
   "metadata": {},
   "source": []
  },
  {
   "cell_type": "markdown",
   "id": "8f1f4699-daf9-4c6b-8146-e74a14df8f60",
   "metadata": {},
   "source": []
  }
 ],
 "metadata": {
  "kernelspec": {
   "display_name": "Python 3 (ipykernel)",
   "language": "python",
   "name": "python3"
  },
  "language_info": {
   "codemirror_mode": {
    "name": "ipython",
    "version": 3
   },
   "file_extension": ".py",
   "mimetype": "text/x-python",
   "name": "python",
   "nbconvert_exporter": "python",
   "pygments_lexer": "ipython3",
   "version": "3.8.10"
  }
 },
 "nbformat": 4,
 "nbformat_minor": 5
}
