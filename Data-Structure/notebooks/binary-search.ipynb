{
 "cells": [
  {
   "cell_type": "markdown",
   "id": "98f287de-0453-4381-b91d-6d37df41d987",
   "metadata": {},
   "source": [
    "### Binary Search Implementation\n",
    "Problem: Given a sorted array arr[] of n elements, write a function to search a given element x in arr[] and return the index of x in array.\n",
    "\n",
    "Consider array is 0 base index.\n",
    "\n",
    "Binary Search is a searching algorithm used in a sorted array by repeatedly dividing the search interval in half. The idea of binary search is to use the information that the array is sorted and reduce the time complexity to O(Log n). \n",
    "\n",
    "**Binary Search Algorithm: The basic steps to perform Binary Search are:**\n",
    "- Begin with the mid element of the whole array as search key.\n",
    "- If the value of the search key is equal to the item then return index of the search key.\n",
    "- Or if the value of the search key is less than the item in the middle of the interval, narrow the interval to the lower half.\n",
    "- Otherwise, narrow it to the upper half.\n",
    "- Repeatedly check from the second point until the value is found or the interval is empty.\n",
    "\n",
    "**Step-by-step Binary Search Algorithm: We basically ignore half of the elements just after one comparison.**\n",
    "- Compare x with the middle element.\n",
    "- If x matches with the middle element, we return the mid index.\n",
    "- Else If x is greater than the mid element, then x can only lie in the right half subarray after the mid element. So we recur for the right half.\n",
    "- Else (x is smaller) recur for the left half.\n",
    "- Recursive implementation of Binary Search:"
   ]
  },
  {
   "cell_type": "markdown",
   "id": "aa88bea8-b6ee-425c-8441-671f129d7422",
   "metadata": {},
   "source": [
    "### Recursive Approach"
   ]
  },
  {
   "cell_type": "code",
   "execution_count": 1,
   "id": "7cb7cc1a-589e-4960-a2bb-9d3d3cc6844d",
   "metadata": {
    "execution": {
     "iopub.execute_input": "2022-06-10T05:18:02.083811Z",
     "iopub.status.busy": "2022-06-10T05:18:02.080910Z",
     "iopub.status.idle": "2022-06-10T05:18:02.136994Z",
     "shell.execute_reply": "2022-06-10T05:18:02.136061Z",
     "shell.execute_reply.started": "2022-06-10T05:18:02.081985Z"
    }
   },
   "outputs": [
    {
     "name": "stdout",
     "output_type": "stream",
     "text": [
      "Element is present at index  3\n"
     ]
    }
   ],
   "source": [
    "# Python3 Program for recursive binary search.\n",
    "# Returns index of x in arr if present, else -1\n",
    " \n",
    "def binarySearch(arr, l, r, x):\n",
    " \n",
    "    # Check base case\n",
    "    if r >= l:\n",
    " \n",
    "        mid = l + (r - l) // 2\n",
    " \n",
    "        # If element is present at the middle itself\n",
    "        if arr[mid] == x:\n",
    "            return mid\n",
    " \n",
    "        # If element is smaller than mid, then it\n",
    "        # can only be present in left subarray\n",
    "        elif arr[mid] > x:\n",
    "            return binarySearch(arr, l, mid-1, x)\n",
    " \n",
    "        # Else the element can only be present\n",
    "        # in right subarray\n",
    "        else:\n",
    "            return binarySearch(arr, mid + 1, r, x)\n",
    " \n",
    "    else:\n",
    "        # Element is not present in the array\n",
    "        return -1\n",
    " \n",
    " \n",
    "# Driver Code\n",
    "arr = [2, 3, 4, 10, 40]\n",
    "x = 10\n",
    " \n",
    "# Function call\n",
    "result = binarySearch(arr, 0, len(arr)-1, x)\n",
    " \n",
    "if result != -1:\n",
    "    print(\"Element is present at index % d\" % result)\n",
    "else:\n",
    "    print(\"Element is not present in array\")"
   ]
  },
  {
   "cell_type": "markdown",
   "id": "fbf4d882-ec9e-4966-bdfe-0eb155286e3e",
   "metadata": {},
   "source": [
    "### Iterative Approach"
   ]
  },
  {
   "cell_type": "code",
   "execution_count": 2,
   "id": "63db3e57-bb51-4a49-a072-100434a09063",
   "metadata": {
    "execution": {
     "iopub.execute_input": "2022-06-10T07:41:08.823017Z",
     "iopub.status.busy": "2022-06-10T07:41:08.819453Z",
     "iopub.status.idle": "2022-06-10T07:41:08.845970Z",
     "shell.execute_reply": "2022-06-10T07:41:08.844903Z",
     "shell.execute_reply.started": "2022-06-10T07:41:08.822851Z"
    }
   },
   "outputs": [
    {
     "name": "stdout",
     "output_type": "stream",
     "text": [
      "Element is present at index  3\n"
     ]
    }
   ],
   "source": [
    "# Python3 code to implement iterative Binary\n",
    "# Search.\n",
    " \n",
    "# It returns location of x in given array arr\n",
    "# if present, else returns -1\n",
    " \n",
    "def binarySearch(arr, l, r, x):\n",
    " \n",
    "    while l <= r:\n",
    " \n",
    "        mid = l + (r - l) // 2\n",
    " \n",
    "        # Check if x is present at mid\n",
    "        if arr[mid] == x:\n",
    "            return mid\n",
    " \n",
    "        # If x is greater, ignore left half\n",
    "        elif arr[mid] < x:\n",
    "            l = mid + 1\n",
    " \n",
    "        # If x is smaller, ignore right half\n",
    "        else:\n",
    "            r = mid - 1\n",
    " \n",
    "    # If we reach here, then the element\n",
    "    # was not present\n",
    "    return -1\n",
    " \n",
    "# Driver Code\n",
    "arr = [2, 3, 4, 10, 40]\n",
    "x = 10\n",
    " \n",
    "# Function call\n",
    "result = binarySearch(arr, 0, len(arr)-1, x)\n",
    " \n",
    "if result != -1:\n",
    "    print(\"Element is present at index % d\" % result)\n",
    "else:\n",
    "    print(\"Element is not present in array\")"
   ]
  }
 ],
 "metadata": {
  "kernelspec": {
   "display_name": "Python 3 (ipykernel)",
   "language": "python",
   "name": "python3"
  },
  "language_info": {
   "codemirror_mode": {
    "name": "ipython",
    "version": 3
   },
   "file_extension": ".py",
   "mimetype": "text/x-python",
   "name": "python",
   "nbconvert_exporter": "python",
   "pygments_lexer": "ipython3",
   "version": "3.8.10"
  }
 },
 "nbformat": 4,
 "nbformat_minor": 5
}
