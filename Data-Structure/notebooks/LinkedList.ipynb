{
 "cells": [
  {
   "cell_type": "markdown",
   "id": "b7c41f76-d54a-48ed-9c5c-43706a292ee8",
   "metadata": {},
   "source": [
    "# Linked List"
   ]
  },
  {
   "cell_type": "markdown",
   "id": "3bfa0d50-6f31-470c-ae09-d9461b57a61c",
   "metadata": {},
   "source": [
    "Data structure is a specialised format for organizing, processing retrieving and storing data. It makes human and machine have a better understanding of data storage. Specifically, it could be use for storing data, managing resources and services, data exchange, ordering and sorting, indexing, searching, scalability in a more efficient way (David & Sarah, 2021)."
   ]
  },
  {
   "cell_type": "markdown",
   "id": "88059452-0859-4d5e-b97f-1f68a854adc9",
   "metadata": {},
   "source": [
    "Linked list is a linear data structure that includes a series of connected nodes. Linked list can be defined as the nodes that are randomly stored in the memory. A node in the linked list contains two parts, i.e., first is the data part and second is the address part. The last node of the list contains a pointer to the null. After array, linked list is the second most used data structure. In a linked list, every link contains a connection to another link (Java T Point).\n",
    "\n",
    "Linked lists are among the simplest and most common data structures. They can be used to implement several other common abstract data types, including lists, stacks, queues, associative arrays, and S-expressions, though it is not uncommon to implement those data structures directly without using a linked list as the basis (Wikipedia).\n",
    "\n",
    "Linked lists overcome the limitations of array, a linked list doesn't require a fix size, this is because the memory space a linked list is dynamic allocated. Unlike an array, linked list doesn't need extra time if we want to increase the list size. Also linked list could store various type of data instead of fixed one."
   ]
  },
  {
   "cell_type": "markdown",
   "id": "4ae2e17d-63e7-49b1-be3d-2d57dab41504",
   "metadata": {},
   "source": [
    "**Linked lists vs. dynamic arrays**\n",
    "\n",
    "<img alt=\"Comparison of list data structures\" src=\"../img/comparison_of_list_data_structures.png\" align=center width=100%/>"
   ]
  },
  {
   "cell_type": "markdown",
   "id": "3b21115a-5ccc-470e-8f43-9f4c40d0b7b0",
   "metadata": {},
   "source": [
    "**Linked list could classified into the following types:**\n",
    "- Singly-linked list\n",
    "    A linked list only link in one direction, a new node also insert at the end of the linked list.\n",
    "- Doubly-linked list\n",
    "    A node in linked list have two direction pointer, the headers point to the previous node and the next node. \n",
    "- Circular singly linked list\n",
    "    The last node of the list always point to the first node of the linked list.\n",
    "- Circular doubly linked list\n",
    "    The last node of the list point to the first node, and each node also have a pointer link to the previous node."
   ]
  },
  {
   "cell_type": "markdown",
   "id": "651b2c3a-2c4e-44eb-bf3a-72f8ab477567",
   "metadata": {},
   "source": [
    "| **Advantages**                  | **Disadvantages**                                                                         |\n",
    "| :-----------------------------: | :---------------------------------------------------------------------------------------: |\n",
    "| Dynamic size data structure     | More memory usage compare to an array                                                     |\n",
    "| Easy insertion and deletion     | Traversal is not easy because it cannot be randomly accessed                              |\n",
    "| Memory consumption is efficient | Reverse traversal is hard, a double-linked list need extra space to store another pointer |\n",
    "| Easy implement                  |                                                                                           |"
   ]
  },
  {
   "cell_type": "markdown",
   "id": "88121a4d-99e6-4004-be40-4099796cfd16",
   "metadata": {},
   "source": [
    "**Time Complexity**\n",
    "\n",
    "| Operation | Average case time complexity | Worst case time complexity | Description                          |\n",
    "| :-------- | :--------------------------: | :------------------------: | :----------------------------------- |\n",
    "| Insertion | O(1)                         | O(1)                       | Insert to the end of the linked list |\n",
    "| Deletion  | O(1)                         | O(1)                       | Delect only need one operation       |\n",
    "| Search    | O(n)                         | O(n)                       | Linear search time because it requires search from the start to the end |\n",
    "\n",
    "n is the number of nodes in the given tree."
   ]
  },
  {
   "cell_type": "markdown",
   "id": "e54f1006-98b1-4c63-b3fc-464a32d4c153",
   "metadata": {},
   "source": [
    "**Space Complexity**\n",
    "\n",
    "| Operation | Space Complexity | \n",
    "| :-------- | :--------------: | \n",
    "| Insertion | O(n)             | \n",
    "| Deletion  | O(n)             |\n",
    "| Search    | O(n)             |"
   ]
  },
  {
   "cell_type": "code",
   "execution_count": 1,
   "id": "a31079f4-fcad-40ec-8d21-8d6095b0df7a",
   "metadata": {
    "execution": {
     "iopub.execute_input": "2022-05-29T13:00:35.574116Z",
     "iopub.status.busy": "2022-05-29T13:00:35.573516Z",
     "iopub.status.idle": "2022-05-29T13:00:35.579450Z",
     "shell.execute_reply": "2022-05-29T13:00:35.579000Z",
     "shell.execute_reply.started": "2022-05-29T13:00:35.574051Z"
    }
   },
   "outputs": [],
   "source": [
    "# create a basic node class\n",
    "class Node:\n",
    "    def __init__(self, data=None):\n",
    "        self.data = data\n",
    "        self.prev = None\n",
    "        self.next = None"
   ]
  },
  {
   "cell_type": "code",
   "execution_count": 2,
   "id": "9282956b-fedf-475a-a2c7-e996adbfad9c",
   "metadata": {
    "execution": {
     "iopub.execute_input": "2022-05-29T13:01:21.716255Z",
     "iopub.status.busy": "2022-05-29T13:01:21.715841Z",
     "iopub.status.idle": "2022-05-29T13:01:21.719275Z",
     "shell.execute_reply": "2022-05-29T13:01:21.718755Z",
     "shell.execute_reply.started": "2022-05-29T13:01:21.716235Z"
    }
   },
   "outputs": [],
   "source": [
    "# create a single linked list\n",
    "class SingleLinkedList:\n",
    "    def __init__(self):\n",
    "        self.head = None"
   ]
  },
  {
   "cell_type": "code",
   "execution_count": 3,
   "id": "8e6c3171-90b5-4e49-b101-a216d313c8f2",
   "metadata": {
    "execution": {
     "iopub.execute_input": "2022-05-29T13:02:06.233596Z",
     "iopub.status.busy": "2022-05-29T13:02:06.233177Z",
     "iopub.status.idle": "2022-05-29T13:02:06.236687Z",
     "shell.execute_reply": "2022-05-29T13:02:06.236167Z",
     "shell.execute_reply.started": "2022-05-29T13:02:06.233579Z"
    }
   },
   "outputs": [],
   "source": [
    "# create a double linked list\n",
    "class DoubleLinkedList:\n",
    "    def __init__(self):\n",
    "        self.head = None\n",
    "        self.tail = None"
   ]
  },
  {
   "cell_type": "markdown",
   "id": "b3932ec8-87ac-472a-9f4e-ea23d52496a6",
   "metadata": {},
   "source": [
    "##### Example of Single-Linked List"
   ]
  },
  {
   "cell_type": "code",
   "execution_count": 11,
   "id": "72ab0628-eaad-4fe5-aa55-916eaec549bc",
   "metadata": {
    "execution": {
     "iopub.execute_input": "2022-05-29T13:08:58.570146Z",
     "iopub.status.busy": "2022-05-29T13:08:58.569826Z",
     "iopub.status.idle": "2022-05-29T13:08:58.573718Z",
     "shell.execute_reply": "2022-05-29T13:08:58.573175Z",
     "shell.execute_reply.started": "2022-05-29T13:08:58.570129Z"
    },
    "tags": []
   },
   "outputs": [],
   "source": [
    "# example: single linked list store weekday data from monday to friday\n",
    "list1 = SingleLinkedList()\n",
    "list1.head = Node(\"Mon\")\n",
    "\n",
    "WEEKDAY = [\"Mon\", \"Tue\", \"Wed\", \"Thu\", \"Fri\", \"Sat\", \"Sun\"]\n",
    "\n",
    "# insert data\n",
    "currNode = list1.head\n",
    "for data in WEEKDAY[1::]:\n",
    "    # init a new node\n",
    "    newNode = Node(data=data)\n",
    "    while currNode.next is not None:\n",
    "        currNode = currNode.next\n",
    "    currNode.next = newNode"
   ]
  },
  {
   "cell_type": "code",
   "execution_count": 14,
   "id": "f9eb2862-6be9-4b38-9927-5d6adba054bc",
   "metadata": {
    "execution": {
     "iopub.execute_input": "2022-05-29T13:53:22.498874Z",
     "iopub.status.busy": "2022-05-29T13:53:22.498442Z",
     "iopub.status.idle": "2022-05-29T13:53:22.503592Z",
     "shell.execute_reply": "2022-05-29T13:53:22.502845Z",
     "shell.execute_reply.started": "2022-05-29T13:53:22.498853Z"
    },
    "tags": []
   },
   "outputs": [
    {
     "name": "stdout",
     "output_type": "stream",
     "text": [
      "Node 1 has value: Mon\n",
      "Node 2 has value: Tue\n",
      "Node 3 has value: Wed\n",
      "Node 4 has value: Thu\n",
      "Node 5 has value: Fri\n",
      "Node 6 has value: Sat\n",
      "Node 7 has value: Sun\n"
     ]
    }
   ],
   "source": [
    "# print the example single linked list data\n",
    "currNode = list1.head\n",
    "counter = 1\n",
    "while currNode:\n",
    "    print(f\"Node {counter} has value: {currNode.data}\")\n",
    "    currNode = currNode.next\n",
    "    counter += 1"
   ]
  },
  {
   "cell_type": "markdown",
   "id": "04c7eed7-1ce4-4f1e-9080-c3b585cbc948",
   "metadata": {},
   "source": [
    "##### Example of Double-Linked List"
   ]
  },
  {
   "cell_type": "code",
   "execution_count": 15,
   "id": "6c5457b1-849b-427c-af5c-621634403fa9",
   "metadata": {
    "execution": {
     "iopub.execute_input": "2022-05-29T13:57:24.000105Z",
     "iopub.status.busy": "2022-05-29T13:57:23.999701Z",
     "iopub.status.idle": "2022-05-29T13:57:24.004309Z",
     "shell.execute_reply": "2022-05-29T13:57:24.003735Z",
     "shell.execute_reply.started": "2022-05-29T13:57:24.000057Z"
    }
   },
   "outputs": [],
   "source": [
    "list2 = DoubleLinkedList()\n",
    "list2.head = Node(\"Mon\")\n",
    "list2.tail = list2.head\n",
    "\n",
    "WEEKDAY = [\"Mon\", \"Tue\", \"Wed\", \"Thu\", \"Fri\", \"Sat\", \"Sun\"]\n",
    "\n",
    "# insert data\n",
    "currNode = list2.head\n",
    "for data in WEEKDAY[1::]:\n",
    "    # init a new node\n",
    "    newNode = Node(data=data)\n",
    "    while currNode.next is not None:\n",
    "        currNode = currNode.next\n",
    "    newNode.prev = currNode # new node head should point to the previous node\n",
    "    currNode.next = newNode # current node tail should point to the new node\n",
    "    \n",
    "    list2.tail = newNode"
   ]
  },
  {
   "cell_type": "code",
   "execution_count": 20,
   "id": "eb26a3df-70d8-4098-8db6-06c2af30e917",
   "metadata": {
    "execution": {
     "iopub.execute_input": "2022-05-29T13:58:47.305587Z",
     "iopub.status.busy": "2022-05-29T13:58:47.305134Z",
     "iopub.status.idle": "2022-05-29T13:58:47.312049Z",
     "shell.execute_reply": "2022-05-29T13:58:47.311444Z",
     "shell.execute_reply.started": "2022-05-29T13:58:47.305566Z"
    },
    "tags": []
   },
   "outputs": [
    {
     "name": "stdout",
     "output_type": "stream",
     "text": [
      "Node 1 has value: Mon\n",
      "Node 2 has value: Tue\n",
      "Node 3 has value: Wed\n",
      "Node 4 has value: Thu\n",
      "Node 5 has value: Fri\n",
      "Node 6 has value: Sat\n",
      "Node 7 has value: Sun\n",
      "---------------------\n",
      "Node 1 has value: Sun\n",
      "Node 2 has value: Sat\n",
      "Node 3 has value: Fri\n",
      "Node 4 has value: Thu\n",
      "Node 5 has value: Wed\n",
      "Node 6 has value: Tue\n",
      "Node 7 has value: Mon\n"
     ]
    }
   ],
   "source": [
    "# print the example double linked list data\n",
    "currNode = list2.head\n",
    "counter = 1\n",
    "while currNode:\n",
    "    print(f\"Node {counter} has value: {currNode.data}\")\n",
    "    currNode = currNode.next\n",
    "    counter += 1\n",
    "    \n",
    "print(\"---------------------\") \n",
    "\n",
    "currNode = list2.tail\n",
    "counter = 1\n",
    "while currNode:\n",
    "    print(f\"Node {counter} has value: {currNode.data}\")\n",
    "    currNode = currNode.prev\n",
    "    counter += 1"
   ]
  },
  {
   "cell_type": "markdown",
   "id": "10c3c07f-8bb2-4272-a572-66176964e59f",
   "metadata": {},
   "source": [
    "#### Other types of linked list\n",
    "\n",
    "##### Multiply linked list\n",
    "In a 'multiply linked list', each node contains two or more link fields, each field being used to connect the same set of data records in a different order of same set. Think this as a joint relational table, where the key in the table point to other field.\n",
    "\n",
    "##### Sentinel nodes\n",
    "In some implementations an extra 'sentinel' or 'dummy' node may be added before the first data record or after the last one.\n",
    "\n",
    "##### Empty lists\n",
    "An empty list is a list that contains no data records. This usually the same as saying that it has zero nodes. If sentinel nodes are being used, the list is usually said to be empty when it has only sentientl nodes.\n",
    "\n",
    "##### Hash linking\n",
    "The link fields need not be physically part of the nodes. If the data records are stored in an array and referenced by their indices, the link field may be stored in a separte array with the same indices asthe data records.\n",
    "\n",
    "##### List handles\n",
    "Since a reference to the first node gives access to the whole list, that reference is often called the 'address', 'pointer', or 'handle' of the list."
   ]
  },
  {
   "cell_type": "markdown",
   "id": "3f1056f1-7677-4bca-9a30-435f4943d8f1",
   "metadata": {
    "tags": []
   },
   "source": [
    "## Reference\n",
    "\n",
    "- David, L & Sarah, L. (Mar, 2021). *Data Structure*. Search Data Management. https://www.techtarget.com/searchdatamanagement/definition/data-structure.\n",
    "- Java T Point. (). *Linked list*. https://www.javatpoint.com/ds-linked-list."
   ]
  }
 ],
 "metadata": {
  "kernelspec": {
   "display_name": "Python 3 (ipykernel)",
   "language": "python",
   "name": "python3"
  },
  "language_info": {
   "codemirror_mode": {
    "name": "ipython",
    "version": 3
   },
   "file_extension": ".py",
   "mimetype": "text/x-python",
   "name": "python",
   "nbconvert_exporter": "python",
   "pygments_lexer": "ipython3",
   "version": "3.8.10"
  }
 },
 "nbformat": 4,
 "nbformat_minor": 5
}
