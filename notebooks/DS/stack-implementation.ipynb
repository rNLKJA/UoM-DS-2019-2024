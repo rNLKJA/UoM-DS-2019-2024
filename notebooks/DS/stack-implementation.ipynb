{
 "cells": [
  {
   "cell_type": "markdown",
   "id": "f81bd0b7-cb65-4a13-87b2-d214d586bad7",
   "metadata": {},
   "source": [
    "### Stack implementation"
   ]
  },
  {
   "cell_type": "markdown",
   "id": "df0c076d-d452-40b5-a148-3a7566b695c4",
   "metadata": {},
   "source": [
    "#### Array Implementation\n",
    "\n",
    "In array implementation, the stack is formed by using the array. All the operations regarding the stack are performed using arrays. Lets see how each operation can be implemented on the stack using array data structure.\n",
    "\n",
    "##### Adding an element onto the stack (push operation)\n",
    "\n",
    "Adding an element into the top of the stack is referred to as push operation. Push operation involves following two steps.\n",
    "\n",
    "Increment the variable Top so that it can now refere to the next memory location.\n",
    "Add element at the position of incremented top. This is referred to as adding new element at the top of the stack.\n",
    "Stack is overflown when we try to insert an element into a completely filled stack therefore, our main function must always avoid stack overflow condition.\n",
    "\n",
    "##### Visiting each element of the stack (Peek Operation)\n",
    "\n",
    "Peek operation involves returning the element which is present at the top of the stack without deleting it. Underflow condition can occur if we try to return the top element in an already empty stack."
   ]
  },
  {
   "cell_type": "code",
   "execution_count": 35,
   "id": "f0197348-ae14-4754-a4dd-44b74299655c",
   "metadata": {
    "execution": {
     "iopub.execute_input": "2022-06-08T06:28:11.612637Z",
     "iopub.status.busy": "2022-06-08T06:28:11.612382Z",
     "iopub.status.idle": "2022-06-08T06:28:11.616658Z",
     "shell.execute_reply": "2022-06-08T06:28:11.616140Z",
     "shell.execute_reply.started": "2022-06-08T06:28:11.612600Z"
    }
   },
   "outputs": [],
   "source": [
    "class Stack:\n",
    "    def __init__(self):\n",
    "        self.items = []\n",
    "\n",
    "    def isEmpty(self):\n",
    "        return self.items == []\n",
    "\n",
    "    def push(self, item):\n",
    "        self.items.append(item)\n",
    "\n",
    "    def pop(self):\n",
    "        return self.items.pop()\n",
    "\n",
    "    def peek(self):\n",
    "        return self.items[len(self.items)-1]\n",
    "\n",
    "    def size(self):\n",
    "        return len(self.items)"
   ]
  },
  {
   "cell_type": "code",
   "execution_count": 36,
   "id": "847192d8-71aa-4b94-9b07-a52dc5adc5c8",
   "metadata": {
    "execution": {
     "iopub.execute_input": "2022-06-08T06:28:50.916823Z",
     "iopub.status.busy": "2022-06-08T06:28:50.916481Z",
     "iopub.status.idle": "2022-06-08T06:28:50.920850Z",
     "shell.execute_reply": "2022-06-08T06:28:50.920354Z",
     "shell.execute_reply.started": "2022-06-08T06:28:50.916808Z"
    }
   },
   "outputs": [
    {
     "data": {
      "text/plain": [
       "[0, 1, 2, 3, 4]"
      ]
     },
     "execution_count": 36,
     "metadata": {},
     "output_type": "execute_result"
    }
   ],
   "source": [
    "# check stack functionality\n",
    "stack = Stack()\n",
    "\n",
    "for i in range(5):\n",
    "    stack.push(item=i)\n",
    "\n",
    "stack.items"
   ]
  },
  {
   "cell_type": "markdown",
   "id": "47843324-3fa4-4c7e-a9ed-256f1325c860",
   "metadata": {},
   "source": [
    "#### Linked List Implementation\n",
    "Instead of using array, we can also use linked list to implement stack. Linked list allocates the memory dynamically. However, time complexity in both the scenario is same for all the operations i.e. push, pop and peek.\n",
    "\n",
    "In linked list implementation of stack, the nodes are maintained non-contiguously in the memory. Each node contains a pointer to its immediate successor node in the stack. Stack is said to be overflown if the space left in the memory heap is not enough to create a node.\n",
    "\n",
    "![ds-linked-list-implementation-stack](./ds-linked-list-implementation-stack.png)\n",
    "\n",
    "The top most node in the stack always contains null in its address field. Lets discuss the way in which, each operation is performed in linked list implementation of stack.\n",
    "\n",
    "- Create a node first and allocate memory to it.\n",
    "- If the list is empty then the item is to be pushed as the start node of the list. This includes assigning value to the data part of the node and assign null to the address part of the node.\n",
    "- If there are some nodes in the list already, then we have to add the new element in the beginning of the list (to not violate the property of the stack). For this purpose, assign the address of the starting element to the address field of the new node and make the new node, the starting node of the list.\n",
    "\n",
    "![ds-linked-list-implementation-stack2](./ds-linked-list-implementation-stack2.png)"
   ]
  },
  {
   "cell_type": "code",
   "execution_count": 29,
   "id": "3509f96d-6043-4b81-a1ed-d73ca37b4a08",
   "metadata": {
    "execution": {
     "iopub.execute_input": "2022-06-08T06:22:47.868898Z",
     "iopub.status.busy": "2022-06-08T06:22:47.868502Z",
     "iopub.status.idle": "2022-06-08T06:22:47.872092Z",
     "shell.execute_reply": "2022-06-08T06:22:47.871551Z",
     "shell.execute_reply.started": "2022-06-08T06:22:47.868860Z"
    },
    "tags": []
   },
   "outputs": [],
   "source": [
    "# define data nodes\n",
    "class Node:\n",
    "    def __init__(self, data):\n",
    "        self.data = data\n",
    "        self.next = None\n",
    "    \n",
    "    def __repr__(self):\n",
    "        return f\"(Node: {self.data})\""
   ]
  },
  {
   "cell_type": "code",
   "execution_count": 30,
   "id": "e85008bc-1701-434f-ad5d-5462536655d0",
   "metadata": {
    "execution": {
     "iopub.execute_input": "2022-06-08T06:23:03.832989Z",
     "iopub.status.busy": "2022-06-08T06:23:03.832474Z",
     "iopub.status.idle": "2022-06-08T06:23:03.836315Z",
     "shell.execute_reply": "2022-06-08T06:23:03.835720Z",
     "shell.execute_reply.started": "2022-06-08T06:23:03.832971Z"
    },
    "tags": []
   },
   "outputs": [],
   "source": [
    "# define custom errors\n",
    "class StackOverflowError(Exception):\n",
    "    def __init__(self, size: int) -> None:\n",
    "        super().__init__(f\"OVERFLOW! Current stack has a maximum capacity size: {size}.\")\n",
    "        \n",
    "class StackUnderflowError(Exception):\n",
    "    def __init__(self) -> None:\n",
    "        super().__init__(\"UNDERFLOW! Current stack has 0 items.\")    "
   ]
  },
  {
   "cell_type": "code",
   "execution_count": 31,
   "id": "786e2589-fef3-4f9d-a91f-a29402250cf7",
   "metadata": {
    "execution": {
     "iopub.execute_input": "2022-06-08T06:25:11.281670Z",
     "iopub.status.busy": "2022-06-08T06:25:11.281311Z",
     "iopub.status.idle": "2022-06-08T06:25:11.287782Z",
     "shell.execute_reply": "2022-06-08T06:25:11.287198Z",
     "shell.execute_reply.started": "2022-06-08T06:25:11.281650Z"
    },
    "tags": []
   },
   "outputs": [],
   "source": [
    "# define linked list stack\n",
    "class Stack:\n",
    "    def __init__(self, size: int) -> None:\n",
    "        self.head = None\n",
    "        self.count = 0\n",
    "        self.size = size\n",
    "    \n",
    "    def isEmpty(self) -> bool:\n",
    "        \"\"\"\n",
    "        If current stack is empty, return True, otherwise False\n",
    "        \"\"\"\n",
    "        return self.count == 0\n",
    "\n",
    "    def isFull(self) -> bool:\n",
    "        \"\"\"\n",
    "        If current stack is full, return True, otherwise False\n",
    "        \"\"\"\n",
    "        return self.count == self.size\n",
    "        \n",
    "    def push(self, data) -> None:\n",
    "        \"\"\"\n",
    "        Push data into stack\n",
    "        \"\"\"\n",
    "        if self.isFull():\n",
    "            raise StackOverflowError(size=self.size)\n",
    "        \n",
    "        if self.isEmpty():\n",
    "            self.head = Node(data)\n",
    "        else:\n",
    "            node = Node(data)\n",
    "            node.next = self.head\n",
    "            self.head = node\n",
    "        self.count += 1\n",
    "    \n",
    "    def pop(self) -> int:\n",
    "        \"\"\"\n",
    "        Pop out first data from the stack\n",
    "        \"\"\"\n",
    "        if self.isEmpty():\n",
    "            raise StackUnderflowError()\n",
    "        else:\n",
    "            data = self.head.data\n",
    "            self.head = self.head.next\n",
    "            self.count -= 1\n",
    "            return data\n",
    "        \n",
    "    def display(self):\n",
    "        \"\"\"\n",
    "        Print current stack list\n",
    "        \"\"\"\n",
    "        curr_node = self.head\n",
    "        while curr_node.next is not None:\n",
    "            print(curr_node)\n",
    "            curr_node = curr_node.next\n",
    "        print(curr_node)"
   ]
  },
  {
   "cell_type": "code",
   "execution_count": 32,
   "id": "4576e2ea-589b-4c5e-8648-9be7118b04a9",
   "metadata": {
    "execution": {
     "iopub.execute_input": "2022-06-08T06:25:23.497519Z",
     "iopub.status.busy": "2022-06-08T06:25:23.496983Z",
     "iopub.status.idle": "2022-06-08T06:25:23.501248Z",
     "shell.execute_reply": "2022-06-08T06:25:23.500724Z",
     "shell.execute_reply.started": "2022-06-08T06:25:23.497499Z"
    },
    "tags": []
   },
   "outputs": [
    {
     "name": "stdout",
     "output_type": "stream",
     "text": [
      "(Node: 4)\n",
      "(Node: 3)\n",
      "(Node: 2)\n",
      "(Node: 1)\n",
      "(Node: 0)\n"
     ]
    }
   ],
   "source": [
    "# check stack functionality\n",
    "stack = Stack(size=5)\n",
    "\n",
    "for i in range(5):\n",
    "    stack.push(data=i)\n",
    "\n",
    "stack.display()"
   ]
  },
  {
   "cell_type": "code",
   "execution_count": 33,
   "id": "42233f66-7439-4695-8d5e-2a98f1e52547",
   "metadata": {
    "execution": {
     "iopub.execute_input": "2022-06-08T06:25:32.357540Z",
     "iopub.status.busy": "2022-06-08T06:25:32.357175Z",
     "iopub.status.idle": "2022-06-08T06:25:32.364216Z",
     "shell.execute_reply": "2022-06-08T06:25:32.363542Z",
     "shell.execute_reply.started": "2022-06-08T06:25:32.357522Z"
    },
    "tags": []
   },
   "outputs": [
    {
     "ename": "StackOverflowError",
     "evalue": "OVERFLOW! Current stack has a maximum capacity size: 5.",
     "output_type": "error",
     "traceback": [
      "\u001b[0;31m---------------------------------------------------------------------------\u001b[0m",
      "\u001b[0;31mStackOverflowError\u001b[0m                        Traceback (most recent call last)",
      "\u001b[0;32m/tmp/ipykernel_2188/3275715562.py\u001b[0m in \u001b[0;36m<module>\u001b[0;34m\u001b[0m\n\u001b[1;32m      1\u001b[0m \u001b[0;31m# check stack overflow condition\u001b[0m\u001b[0;34m\u001b[0m\u001b[0;34m\u001b[0m\u001b[0;34m\u001b[0m\u001b[0m\n\u001b[0;32m----> 2\u001b[0;31m \u001b[0mstack\u001b[0m\u001b[0;34m.\u001b[0m\u001b[0mpush\u001b[0m\u001b[0;34m(\u001b[0m\u001b[0;36m6\u001b[0m\u001b[0;34m)\u001b[0m\u001b[0;34m\u001b[0m\u001b[0;34m\u001b[0m\u001b[0m\n\u001b[0m",
      "\u001b[0;32m/tmp/ipykernel_2188/301264337.py\u001b[0m in \u001b[0;36mpush\u001b[0;34m(self, data)\u001b[0m\n\u001b[1;32m     23\u001b[0m         \"\"\"\n\u001b[1;32m     24\u001b[0m         \u001b[0;32mif\u001b[0m \u001b[0mself\u001b[0m\u001b[0;34m.\u001b[0m\u001b[0misFull\u001b[0m\u001b[0;34m(\u001b[0m\u001b[0;34m)\u001b[0m\u001b[0;34m:\u001b[0m\u001b[0;34m\u001b[0m\u001b[0;34m\u001b[0m\u001b[0m\n\u001b[0;32m---> 25\u001b[0;31m             \u001b[0;32mraise\u001b[0m \u001b[0mStackOverflowError\u001b[0m\u001b[0;34m(\u001b[0m\u001b[0msize\u001b[0m\u001b[0;34m=\u001b[0m\u001b[0mself\u001b[0m\u001b[0;34m.\u001b[0m\u001b[0msize\u001b[0m\u001b[0;34m)\u001b[0m\u001b[0;34m\u001b[0m\u001b[0;34m\u001b[0m\u001b[0m\n\u001b[0m\u001b[1;32m     26\u001b[0m \u001b[0;34m\u001b[0m\u001b[0m\n\u001b[1;32m     27\u001b[0m         \u001b[0;32mif\u001b[0m \u001b[0mself\u001b[0m\u001b[0;34m.\u001b[0m\u001b[0misEmpty\u001b[0m\u001b[0;34m(\u001b[0m\u001b[0;34m)\u001b[0m\u001b[0;34m:\u001b[0m\u001b[0;34m\u001b[0m\u001b[0;34m\u001b[0m\u001b[0m\n",
      "\u001b[0;31mStackOverflowError\u001b[0m: OVERFLOW! Current stack has a maximum capacity size: 5."
     ]
    }
   ],
   "source": [
    "# check stack overflow condition\n",
    "stack.push(6)"
   ]
  },
  {
   "cell_type": "code",
   "execution_count": 34,
   "id": "b3193307-f8d7-4069-a5fd-a4c1bfa6570f",
   "metadata": {
    "execution": {
     "iopub.execute_input": "2022-06-08T06:25:44.564427Z",
     "iopub.status.busy": "2022-06-08T06:25:44.564207Z",
     "iopub.status.idle": "2022-06-08T06:25:44.570696Z",
     "shell.execute_reply": "2022-06-08T06:25:44.570009Z",
     "shell.execute_reply.started": "2022-06-08T06:25:44.564410Z"
    },
    "tags": []
   },
   "outputs": [
    {
     "ename": "StackUnderflowError",
     "evalue": "UNDERFLOW! Current stack has 0 items.",
     "output_type": "error",
     "traceback": [
      "\u001b[0;31m---------------------------------------------------------------------------\u001b[0m",
      "\u001b[0;31mStackUnderflowError\u001b[0m                       Traceback (most recent call last)",
      "\u001b[0;32m/tmp/ipykernel_2188/1803258680.py\u001b[0m in \u001b[0;36m<module>\u001b[0;34m\u001b[0m\n\u001b[1;32m      3\u001b[0m     \u001b[0mstack\u001b[0m\u001b[0;34m.\u001b[0m\u001b[0mpop\u001b[0m\u001b[0;34m(\u001b[0m\u001b[0;34m)\u001b[0m\u001b[0;34m\u001b[0m\u001b[0;34m\u001b[0m\u001b[0m\n\u001b[1;32m      4\u001b[0m \u001b[0;34m\u001b[0m\u001b[0m\n\u001b[0;32m----> 5\u001b[0;31m \u001b[0mstack\u001b[0m\u001b[0;34m.\u001b[0m\u001b[0mpop\u001b[0m\u001b[0;34m(\u001b[0m\u001b[0;34m)\u001b[0m\u001b[0;34m\u001b[0m\u001b[0;34m\u001b[0m\u001b[0m\n\u001b[0m",
      "\u001b[0;32m/tmp/ipykernel_2188/301264337.py\u001b[0m in \u001b[0;36mpop\u001b[0;34m(self)\u001b[0m\n\u001b[1;32m     38\u001b[0m         \"\"\"\n\u001b[1;32m     39\u001b[0m         \u001b[0;32mif\u001b[0m \u001b[0mself\u001b[0m\u001b[0;34m.\u001b[0m\u001b[0misEmpty\u001b[0m\u001b[0;34m(\u001b[0m\u001b[0;34m)\u001b[0m\u001b[0;34m:\u001b[0m\u001b[0;34m\u001b[0m\u001b[0;34m\u001b[0m\u001b[0m\n\u001b[0;32m---> 40\u001b[0;31m             \u001b[0;32mraise\u001b[0m \u001b[0mStackUnderflowError\u001b[0m\u001b[0;34m(\u001b[0m\u001b[0;34m)\u001b[0m\u001b[0;34m\u001b[0m\u001b[0;34m\u001b[0m\u001b[0m\n\u001b[0m\u001b[1;32m     41\u001b[0m         \u001b[0;32melse\u001b[0m\u001b[0;34m:\u001b[0m\u001b[0;34m\u001b[0m\u001b[0;34m\u001b[0m\u001b[0m\n\u001b[1;32m     42\u001b[0m             \u001b[0mdata\u001b[0m \u001b[0;34m=\u001b[0m \u001b[0mself\u001b[0m\u001b[0;34m.\u001b[0m\u001b[0mhead\u001b[0m\u001b[0;34m.\u001b[0m\u001b[0mdata\u001b[0m\u001b[0;34m\u001b[0m\u001b[0;34m\u001b[0m\u001b[0m\n",
      "\u001b[0;31mStackUnderflowError\u001b[0m: UNDERFLOW! Current stack has 0 items."
     ]
    }
   ],
   "source": [
    "# check stack underflow condition\n",
    "while not stack.isEmpty():\n",
    "    stack.pop()\n",
    "    \n",
    "stack.pop()"
   ]
  },
  {
   "cell_type": "markdown",
   "id": "7b9c37e5-0589-421e-a2c4-ee0ddcf9e859",
   "metadata": {},
   "source": [
    "### Reference\n",
    "\n",
    "- Java T Point. (2022). *Linked list implementation of stack*. ds-linked-list-implementation-of-stack.\n",
    "- Geeks for Geeks. (24, May 2022). *Stack in Python*. https://www.geeksforgeeks.org/stack-in-python/.\n",
    "- Sanfoundry. (2022). *Python program to implement Stack using Linked List*. https://www.sanfoundry.com/python-program-implement-stack-using-linked-list/.\n",
    "- pythonds. (2022). *4.5. Implementing a Stack in Python*. https://runestone.academy/ns/books/published/pythonds/BasicDS/ImplementingaStackinPython.html."
   ]
  }
 ],
 "metadata": {
  "kernelspec": {
   "display_name": "Python 3 (ipykernel)",
   "language": "python",
   "name": "python3"
  },
  "language_info": {
   "codemirror_mode": {
    "name": "ipython",
    "version": 3
   },
   "file_extension": ".py",
   "mimetype": "text/x-python",
   "name": "python",
   "nbconvert_exporter": "python",
   "pygments_lexer": "ipython3",
   "version": "3.8.10"
  }
 },
 "nbformat": 4,
 "nbformat_minor": 5
}
