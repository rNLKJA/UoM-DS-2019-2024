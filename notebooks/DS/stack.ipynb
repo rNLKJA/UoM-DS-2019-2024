{
 "cells": [
  {
   "cell_type": "markdown",
   "id": "416c437b-7fca-4898-9187-d82a6fbfb672",
   "metadata": {},
   "source": [
    "### Stack\n",
    "\n",
    "A Stack is a linear data structure that follows the LIFO (Last-In-First-Out) principle. Stack has one end, whereas the Queue has two ends (front and rear). It contains only one pointer top pointer pointing to the topmost element of the stack. Whenever an element is added in the stack, it is added on the top of the stack, and the element can be deleted only from the stack. In other words, a stack can be defined as a container in which insertion and deletion can be done from the one end known as the top of the stack.\n",
    "- It is called as stack because it behaves like a real-world stack, pilles of books, etc.\n",
    "- A stack is an abstract data type with a pre-defined capacity, which means that it can store the elements of a limited size.\n",
    "- It is a data structure that follows some order to insert and delete the elements, and that order can be LIFO or FILO."
   ]
  },
  {
   "cell_type": "markdown",
   "id": "3559fd3c-23f0-4194-a3b5-304022049060",
   "metadata": {},
   "source": [
    "#### Working of Stack\n",
    "\n",
    "Stack works on the LIFO pattern. As we can observe in the below figure there are five memeory blocks in the stack; therefore, the size of stack is 5.\n",
    "\n",
    "Suppose we want to store the elements in a stack and let's assume that stack is empty. We have taken the stack of size 5 as shown below in which we are pushing the elements one by one until the stack becomes full.\n",
    "\n",
    "![ds-stack](./ds-stack.png)\n",
    "\n",
    "Since our stack is full as the size of the stack is 5. In the above cases, we can observe that it goes from the top to the bottom when we were entering the new element in the stack. The stack gets filled up from the bottom to the top.\n",
    "\n",
    "#### Standard Stack Operations\n",
    "- `push()`: When we insert an element in a stack then the operation is known as a push. If the stack is full then overflow condition occurs.\n",
    "- `pop()`: When we detele an element from the stack, the operation is known as a pop. If the stack is empty means that no element exists in the stack, this state is konwn as an underflow state.\n",
    "- `isEmpty()`: It determines whether the stack is empty or note.\n",
    "- `isFull()`: It determines whether the stack is full or not.\n",
    "- `peek()`: It returns the element at the given position.\n",
    "- `count()`: It returns the total number of elements available in a stack.\n",
    "- `change()`: It changes the element at the given position.\n",
    "- `display()`: It prints all the elements available in the stack."
   ]
  },
  {
   "cell_type": "markdown",
   "id": "e0ce3019-7aad-433c-b655-b55479b7793b",
   "metadata": {},
   "source": [
    "#### PUSH operation\n",
    "This steps involved in the PUSH operation is given below:\n",
    "- Before inserting an element in a stack, and the stack is full, then the overflow condition occurs.\n",
    "- When we initialize a stack, we set the value of top as -1 to check that the stack is empty.\n",
    "- When the new element is pushed in a stack, first, the value of the top gets incremented, i.e. top = top + 1, and the element will be placed at the new position of the top.\n",
    "- The elements will be inserted until we reach the max size of the stack."
   ]
  },
  {
   "cell_type": "markdown",
   "id": "58030b36-a470-4242-9ce8-0a092db173a0",
   "metadata": {},
   "source": [
    "#### POP operation\n",
    "The steps involved in the POP operation is given below:\n",
    "- Before deleting the element from the stack, we check whether the stack is emtpy.\n",
    "- If we try to delete the element from the empty stack, then the underflow condition occurs.\n",
    "- If the stakc is not empty, we first access the element which is pointed by the top.\n",
    "- Once the pop operation is performed, the top is decremeneted by 1, i.e., top = top - 1."
   ]
  },
  {
   "cell_type": "markdown",
   "id": "e6cef186-f07b-42cf-995f-ef3a47e611b3",
   "metadata": {},
   "source": [
    "#### Applications of Stack\n",
    "The following are the applications of the stack:\n",
    "- Balancing of symbols: Stack is used to balancing a symbol. \n",
    "\n",
    "- As we know, each program has an opening and closing braces; when the opening braces come, we push the braces in a stack, and when the closing braces appear, we pop the opening braces from the stack. Therefore, the net value comes out to be zero. If any symbol is left in the stack, it means that some syntax occurs in a program.\n",
    "\n",
    "- String reversal: Stack is also used for reversing a string. For example, we want to reverse a \"javaTpoint\" string, so we can achieve this with the help of a stack.\n",
    "- First, we push all the characters of the string in a stack until we reach the null character. After pushing all the characters, we start taking out the character one by one until we reach the bottom of the stack.\n",
    "- UNDO/REDO: It can also be used for performing UNDO/REDO operations. For example, we have an editor in which we write 'a', then 'b', and then 'c'; therefore, the text written in an editor is abc. So, there are three states, a, ab, and abc, which are stored in a stack. There would be two stacks in which one stack shows UNDO state, and the other shows REDO state.\n",
    "- If we want to perform UNDO operation, and want to achieve 'ab' state, then we implement pop operation.\n",
    "- Recursion: The recursion means that the function is calling itself again. To maintain the previous states, the compiler creates a system stack in which all the previous records of the function are maintained.\n",
    "- DFS(Depth First Search): This search is implemented on a Graph, and Graph uses the stack data structure.\n",
    "- Backtracking: Suppose we have to create a path to solve a maze problem. If we are moving in a particular path, and we realize that we come on the wrong way. In order to come at the beginning of the path to create a new path, we have to use the stack data structure.\n",
    "- Expression conversion: Stack can also be used for expression conversion. This is one of the most important applications of stack. The list of the expression conversion is given below:\n",
    "    - Infix to prefix\n",
    "    - Infix to postfix\n",
    "    - Prefix to infix\n",
    "    - Prefix to postfix\n",
    "    - Postfix to infix\n",
    "- Memory management: The stack manages the memory. The memory is assigned in the contiguous memory blocks. The memory is known as stack memory as all the variables are assigned in a function call stack memory. The memory size assigned to the program is known to the compiler. When the function is created, all its variables are assigned in the stack memory. When the function completed its execution, all the variables assigned in the stack are released."
   ]
  },
  {
   "cell_type": "markdown",
   "id": "954e959f-e632-4876-90ef-e07a7735006f",
   "metadata": {},
   "source": [
    "### Reference\n",
    "\n",
    "- Java T Point. (2022). *Linked list implementation of stack*. ds-linked-list-implementation-of-stack.\n",
    "- Geeks for Geeks. (24, May 2022). *Stack in Python*. https://www.geeksforgeeks.org/stack-in-python/.\n",
    "- Sanfoundry. (2022). *Python program to implement Stack using Linked List*. https://www.sanfoundry.com/python-program-implement-stack-using-linked-list/.\n",
    "- pythonds. (2022). *4.5. Implementing a Stack in Python*. https://runestone.academy/ns/books/published/pythonds/BasicDS/ImplementingaStackinPython.html."
   ]
  }
 ],
 "metadata": {
  "kernelspec": {
   "display_name": "Python 3 (ipykernel)",
   "language": "python",
   "name": "python3"
  },
  "language_info": {
   "codemirror_mode": {
    "name": "ipython",
    "version": 3
   },
   "file_extension": ".py",
   "mimetype": "text/x-python",
   "name": "python",
   "nbconvert_exporter": "python",
   "pygments_lexer": "ipython3",
   "version": "3.8.10"
  }
 },
 "nbformat": 4,
 "nbformat_minor": 5
}
